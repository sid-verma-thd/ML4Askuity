{
 "cells": [
  {
   "cell_type": "code",
   "execution_count": 32,
   "id": "1eb801ea",
   "metadata": {},
   "outputs": [],
   "source": [
    "import pandas as pd\n",
    "import numpy as np\n",
    "\n",
    "import matplotlib.pyplot as plt"
   ]
  },
  {
   "cell_type": "code",
   "execution_count": 33,
   "id": "d9e3c62c",
   "metadata": {},
   "outputs": [],
   "source": [
    "pd.set_option(\"display.max_rows\",500)"
   ]
  },
  {
   "cell_type": "code",
   "execution_count": 56,
   "id": "8316dd1e",
   "metadata": {},
   "outputs": [
    {
     "data": {
      "text/plain": [
       "(49588, 2)"
      ]
     },
     "execution_count": 56,
     "metadata": {},
     "output_type": "execute_result"
    }
   ],
   "source": [
    "df_sample = pd.read_csv('sample_submission.csv')\n",
    "df_sample.shape"
   ]
  },
  {
   "cell_type": "code",
   "execution_count": 59,
   "id": "0233baad",
   "metadata": {},
   "outputs": [
    {
     "data": {
      "text/plain": [
       "0"
      ]
     },
     "execution_count": 59,
     "metadata": {},
     "output_type": "execute_result"
    }
   ],
   "source": [
    "df_sample.contact.sum()"
   ]
  },
  {
   "cell_type": "code",
   "execution_count": 35,
   "id": "10c69b58",
   "metadata": {},
   "outputs": [
    {
     "data": {
      "text/plain": [
       "(45276, 2)"
      ]
     },
     "execution_count": 35,
     "metadata": {},
     "output_type": "execute_result"
    }
   ],
   "source": [
    "df_pp = pd.read_csv('submissions_pp.csv')\n",
    "df_pp.shape"
   ]
  },
  {
   "cell_type": "code",
   "execution_count": 36,
   "id": "8c590f98",
   "metadata": {},
   "outputs": [
    {
     "data": {
      "text/plain": [
       "(4312, 2)"
      ]
     },
     "execution_count": 36,
     "metadata": {},
     "output_type": "execute_result"
    }
   ],
   "source": [
    "df_pg = pd.read_csv('submissions_pg.csv')\n",
    "df_pg.shape"
   ]
  },
  {
   "cell_type": "code",
   "execution_count": 37,
   "id": "a75fe47d",
   "metadata": {},
   "outputs": [
    {
     "data": {
      "text/plain": [
       "49588"
      ]
     },
     "execution_count": 37,
     "metadata": {},
     "output_type": "execute_result"
    }
   ],
   "source": [
    "df_pp.shape[0] + df_pg.shape[0]"
   ]
  },
  {
   "cell_type": "code",
   "execution_count": 38,
   "id": "e5cfdbe8",
   "metadata": {},
   "outputs": [],
   "source": [
    "pd.concat([df_pp, df_pg]).to_csv('submission_combine.csv', index=False)"
   ]
  },
  {
   "cell_type": "code",
   "execution_count": 39,
   "id": "ae3df2eb",
   "metadata": {},
   "outputs": [
    {
     "data": {
      "text/plain": [
       "(49588, 2)"
      ]
     },
     "execution_count": 39,
     "metadata": {},
     "output_type": "execute_result"
    }
   ],
   "source": [
    "df_combine = pd.read_csv('submission_combine.csv')\n",
    "df_combine.shape"
   ]
  },
  {
   "cell_type": "code",
   "execution_count": 52,
   "id": "e01ec3be",
   "metadata": {},
   "outputs": [],
   "source": [
    "for i,row in df_sample.iterrows():\n",
    "    df_sample.loc[df_sample.contact_id==row['contact_id'],'contact'] =\\\n",
    "    df_combine.loc[df_combine.contact_id==row['contact_id'],'contact'].values[0]\n",
    "\n",
    "#df_sample"
   ]
  },
  {
   "cell_type": "code",
   "execution_count": 53,
   "id": "f82ada2d",
   "metadata": {},
   "outputs": [
    {
     "data": {
      "text/plain": [
       "1153.0"
      ]
     },
     "execution_count": 53,
     "metadata": {},
     "output_type": "execute_result"
    }
   ],
   "source": [
    "df_sample.contact.sum()"
   ]
  },
  {
   "cell_type": "code",
   "execution_count": 54,
   "id": "affcdc43",
   "metadata": {},
   "outputs": [
    {
     "data": {
      "text/plain": [
       "1153"
      ]
     },
     "execution_count": 54,
     "metadata": {},
     "output_type": "execute_result"
    }
   ],
   "source": [
    "df_combine['contact'].sum()"
   ]
  },
  {
   "cell_type": "code",
   "execution_count": 55,
   "id": "4bfccec6",
   "metadata": {},
   "outputs": [
    {
     "data": {
      "text/html": [
       "<div>\n",
       "<style scoped>\n",
       "    .dataframe tbody tr th:only-of-type {\n",
       "        vertical-align: middle;\n",
       "    }\n",
       "\n",
       "    .dataframe tbody tr th {\n",
       "        vertical-align: top;\n",
       "    }\n",
       "\n",
       "    .dataframe thead th {\n",
       "        text-align: right;\n",
       "    }\n",
       "</style>\n",
       "<table border=\"1\" class=\"dataframe\">\n",
       "  <thead>\n",
       "    <tr style=\"text-align: right;\">\n",
       "      <th></th>\n",
       "      <th>contact_id</th>\n",
       "      <th>contact</th>\n",
       "    </tr>\n",
       "  </thead>\n",
       "  <tbody>\n",
       "    <tr>\n",
       "      <th>743</th>\n",
       "      <td>58168_003392_3_41944_42565</td>\n",
       "      <td>1</td>\n",
       "    </tr>\n",
       "    <tr>\n",
       "      <th>974</th>\n",
       "      <td>58168_003392_4_41944_42565</td>\n",
       "      <td>1</td>\n",
       "    </tr>\n",
       "    <tr>\n",
       "      <th>1075</th>\n",
       "      <td>58168_003392_4_37084_38567</td>\n",
       "      <td>1</td>\n",
       "    </tr>\n",
       "    <tr>\n",
       "      <th>1179</th>\n",
       "      <td>58168_003392_5_43854_46445</td>\n",
       "      <td>1</td>\n",
       "    </tr>\n",
       "    <tr>\n",
       "      <th>1205</th>\n",
       "      <td>58168_003392_5_41944_42565</td>\n",
       "      <td>1</td>\n",
       "    </tr>\n",
       "    <tr>\n",
       "      <th>...</th>\n",
       "      <td>...</td>\n",
       "      <td>...</td>\n",
       "    </tr>\n",
       "    <tr>\n",
       "      <th>49501</th>\n",
       "      <td>58172_003247_122_45345_G</td>\n",
       "      <td>1</td>\n",
       "    </tr>\n",
       "    <tr>\n",
       "      <th>49503</th>\n",
       "      <td>58172_003247_122_43406_G</td>\n",
       "      <td>1</td>\n",
       "    </tr>\n",
       "    <tr>\n",
       "      <th>49523</th>\n",
       "      <td>58172_003247_123_45345_G</td>\n",
       "      <td>1</td>\n",
       "    </tr>\n",
       "    <tr>\n",
       "      <th>49525</th>\n",
       "      <td>58172_003247_123_43406_G</td>\n",
       "      <td>1</td>\n",
       "    </tr>\n",
       "    <tr>\n",
       "      <th>49579</th>\n",
       "      <td>58172_003247_125_47920_G</td>\n",
       "      <td>1</td>\n",
       "    </tr>\n",
       "  </tbody>\n",
       "</table>\n",
       "<p>1153 rows × 2 columns</p>\n",
       "</div>"
      ],
      "text/plain": [
       "                       contact_id  contact\n",
       "743    58168_003392_3_41944_42565        1\n",
       "974    58168_003392_4_41944_42565        1\n",
       "1075   58168_003392_4_37084_38567        1\n",
       "1179   58168_003392_5_43854_46445        1\n",
       "1205   58168_003392_5_41944_42565        1\n",
       "...                           ...      ...\n",
       "49501    58172_003247_122_45345_G        1\n",
       "49503    58172_003247_122_43406_G        1\n",
       "49523    58172_003247_123_45345_G        1\n",
       "49525    58172_003247_123_43406_G        1\n",
       "49579    58172_003247_125_47920_G        1\n",
       "\n",
       "[1153 rows x 2 columns]"
      ]
     },
     "execution_count": 55,
     "metadata": {},
     "output_type": "execute_result"
    }
   ],
   "source": [
    "df_combine[df_combine.contact==1]"
   ]
  },
  {
   "cell_type": "code",
   "execution_count": 44,
   "id": "699c66ce",
   "metadata": {},
   "outputs": [
    {
     "data": {
      "text/html": [
       "<div>\n",
       "<style scoped>\n",
       "    .dataframe tbody tr th:only-of-type {\n",
       "        vertical-align: middle;\n",
       "    }\n",
       "\n",
       "    .dataframe tbody tr th {\n",
       "        vertical-align: top;\n",
       "    }\n",
       "\n",
       "    .dataframe thead th {\n",
       "        text-align: right;\n",
       "    }\n",
       "</style>\n",
       "<table border=\"1\" class=\"dataframe\">\n",
       "  <thead>\n",
       "    <tr style=\"text-align: right;\">\n",
       "      <th></th>\n",
       "      <th>contact_id</th>\n",
       "      <th>contact</th>\n",
       "    </tr>\n",
       "  </thead>\n",
       "  <tbody>\n",
       "    <tr>\n",
       "      <th>49579</th>\n",
       "      <td>58172_003247_125_47920_G</td>\n",
       "      <td>1.0</td>\n",
       "    </tr>\n",
       "  </tbody>\n",
       "</table>\n",
       "</div>"
      ],
      "text/plain": [
       "                     contact_id  contact\n",
       "49579  58172_003247_125_47920_G      1.0"
      ]
     },
     "execution_count": 44,
     "metadata": {},
     "output_type": "execute_result"
    }
   ],
   "source": [
    "df_sample[df_sample.contact==1]"
   ]
  },
  {
   "cell_type": "code",
   "execution_count": 46,
   "id": "268f68da",
   "metadata": {},
   "outputs": [
    {
     "data": {
      "text/html": [
       "<div>\n",
       "<style scoped>\n",
       "    .dataframe tbody tr th:only-of-type {\n",
       "        vertical-align: middle;\n",
       "    }\n",
       "\n",
       "    .dataframe tbody tr th {\n",
       "        vertical-align: top;\n",
       "    }\n",
       "\n",
       "    .dataframe thead th {\n",
       "        text-align: right;\n",
       "    }\n",
       "</style>\n",
       "<table border=\"1\" class=\"dataframe\">\n",
       "  <thead>\n",
       "    <tr style=\"text-align: right;\">\n",
       "      <th></th>\n",
       "      <th>contact_id</th>\n",
       "      <th>contact</th>\n",
       "    </tr>\n",
       "  </thead>\n",
       "  <tbody>\n",
       "    <tr>\n",
       "      <th>1289</th>\n",
       "      <td>58168_003392_5_43854_46445</td>\n",
       "      <td>NaN</td>\n",
       "    </tr>\n",
       "  </tbody>\n",
       "</table>\n",
       "</div>"
      ],
      "text/plain": [
       "                      contact_id  contact\n",
       "1289  58168_003392_5_43854_46445      NaN"
      ]
     },
     "execution_count": 46,
     "metadata": {},
     "output_type": "execute_result"
    }
   ],
   "source": [
    "df_sample[df_sample.contact_id=='58168_003392_5_43854_46445']"
   ]
  },
  {
   "cell_type": "code",
   "execution_count": 51,
   "id": "8915637e",
   "metadata": {},
   "outputs": [
    {
     "data": {
      "text/plain": [
       "1"
      ]
     },
     "execution_count": 51,
     "metadata": {},
     "output_type": "execute_result"
    }
   ],
   "source": [
    "df_combine[df_combine.contact_id=='58168_003392_5_43854_46445']['contact'].values[0]"
   ]
  },
  {
   "cell_type": "code",
   "execution_count": null,
   "id": "9ddb12a9",
   "metadata": {},
   "outputs": [],
   "source": []
  },
  {
   "cell_type": "code",
   "execution_count": null,
   "id": "d7206c13",
   "metadata": {},
   "outputs": [],
   "source": []
  },
  {
   "cell_type": "markdown",
   "id": "bb197081",
   "metadata": {},
   "source": [
    "### Writing the exact submission_file"
   ]
  },
  {
   "cell_type": "code",
   "execution_count": 61,
   "id": "d05dc5cd",
   "metadata": {},
   "outputs": [],
   "source": [
    "df_pp = pd.read_csv('submissions_pp.csv')\n",
    "df_pg = pd.read_csv('submissions_pg.csv')\n",
    "\n",
    "df_sample=pd.read_csv('sample_submission.csv')"
   ]
  },
  {
   "cell_type": "code",
   "execution_count": 62,
   "id": "0ac500b9",
   "metadata": {},
   "outputs": [],
   "source": [
    "df_combine = pd.concat([df_pp, df_pg])"
   ]
  },
  {
   "cell_type": "code",
   "execution_count": 63,
   "id": "8613ab77",
   "metadata": {},
   "outputs": [
    {
     "name": "stdout",
     "output_type": "stream",
     "text": [
      "0\n",
      "1000\n",
      "2000\n",
      "3000\n",
      "4000\n",
      "5000\n",
      "6000\n",
      "7000\n",
      "8000\n",
      "9000\n",
      "10000\n",
      "11000\n",
      "12000\n",
      "13000\n",
      "14000\n",
      "15000\n",
      "16000\n",
      "17000\n",
      "18000\n",
      "19000\n",
      "20000\n",
      "21000\n",
      "22000\n",
      "23000\n",
      "24000\n",
      "25000\n",
      "26000\n",
      "27000\n",
      "28000\n",
      "29000\n",
      "30000\n",
      "31000\n",
      "32000\n",
      "33000\n",
      "34000\n",
      "35000\n",
      "36000\n",
      "37000\n",
      "38000\n",
      "39000\n",
      "40000\n",
      "41000\n",
      "42000\n",
      "43000\n",
      "44000\n",
      "45000\n",
      "46000\n",
      "47000\n",
      "48000\n",
      "49000\n"
     ]
    }
   ],
   "source": [
    "for i,row in df_sample.iterrows():\n",
    "    if i%1000==0:\n",
    "        print(i)\n",
    "    df_sample.loc[df_sample.contact_id==row['contact_id'],'contact'] =\\\n",
    "    df_combine.loc[df_combine.contact_id==row['contact_id'],'contact'].values[0]"
   ]
  },
  {
   "cell_type": "code",
   "execution_count": 64,
   "id": "a8b88656",
   "metadata": {},
   "outputs": [],
   "source": [
    "df_sample.contact = df_sample.contact.astype('int64')"
   ]
  },
  {
   "cell_type": "code",
   "execution_count": 65,
   "id": "e7e0e65f",
   "metadata": {},
   "outputs": [],
   "source": [
    "df_sample.to_csv('submission.csv',index=None)"
   ]
  },
  {
   "cell_type": "code",
   "execution_count": null,
   "id": "cc6bc45b",
   "metadata": {},
   "outputs": [],
   "source": []
  }
 ],
 "metadata": {
  "kernelspec": {
   "display_name": "venv-hackathon",
   "language": "python",
   "name": "venv-hackathon"
  },
  "language_info": {
   "codemirror_mode": {
    "name": "ipython",
    "version": 3
   },
   "file_extension": ".py",
   "mimetype": "text/x-python",
   "name": "python",
   "nbconvert_exporter": "python",
   "pygments_lexer": "ipython3",
   "version": "3.9.6"
  }
 },
 "nbformat": 4,
 "nbformat_minor": 5
}
