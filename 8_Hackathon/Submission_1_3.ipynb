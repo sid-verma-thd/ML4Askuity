{
 "cells": [
  {
   "cell_type": "code",
   "execution_count": 1,
   "id": "7873bf59",
   "metadata": {},
   "outputs": [],
   "source": [
    "import pandas as pd\n",
    "import numpy as np\n",
    "\n",
    "from sklearn.model_selection import train_test_split\n",
    "from sklearn.tree import DecisionTreeClassifier\n",
    "from sklearn.metrics import classification_report, confusion_matrix\n",
    "from sklearn.metrics import matthews_corrcoef\n",
    "from xgboost import XGBClassifier"
   ]
  },
  {
   "cell_type": "markdown",
   "id": "af1d03e1",
   "metadata": {},
   "source": [
    "### Load the training data"
   ]
  },
  {
   "cell_type": "code",
   "execution_count": 3,
   "id": "9123f660",
   "metadata": {},
   "outputs": [],
   "source": [
    "df_train_preprocessed = pd.read_csv('training_pp.csv')"
   ]
  },
  {
   "cell_type": "markdown",
   "id": "229e59b6",
   "metadata": {},
   "source": [
    "### Train XGB"
   ]
  },
  {
   "cell_type": "code",
   "execution_count": 4,
   "id": "42ca61d3",
   "metadata": {},
   "outputs": [],
   "source": [
    "X = df_train_preprocessed.drop('contact', axis=1)\n",
    "y = df_train_preprocessed['contact']"
   ]
  },
  {
   "cell_type": "code",
   "execution_count": 5,
   "id": "410e276a",
   "metadata": {},
   "outputs": [],
   "source": [
    "X_train, X_test, y_train, y_test = train_test_split(X, y, test_size=0.20)"
   ]
  },
  {
   "cell_type": "code",
   "execution_count": 6,
   "id": "41d51819",
   "metadata": {},
   "outputs": [
    {
     "data": {
      "text/plain": [
       "XGBClassifier(base_score=None, booster=None, callbacks=None,\n",
       "              colsample_bylevel=None, colsample_bynode=None,\n",
       "              colsample_bytree=None, early_stopping_rounds=None,\n",
       "              enable_categorical=False, eval_metric=None, feature_types=None,\n",
       "              gamma=None, gpu_id=None, grow_policy=None, importance_type=None,\n",
       "              interaction_constraints=None, learning_rate=None, max_bin=None,\n",
       "              max_cat_threshold=None, max_cat_to_onehot=None,\n",
       "              max_delta_step=None, max_depth=None, max_leaves=None,\n",
       "              min_child_weight=None, missing=nan, monotone_constraints=None,\n",
       "              n_estimators=100, n_jobs=None, num_parallel_tree=None,\n",
       "              predictor=None, random_state=None, ...)"
      ]
     },
     "execution_count": 6,
     "metadata": {},
     "output_type": "execute_result"
    }
   ],
   "source": [
    "model = XGBClassifier()\n",
    "model.fit(X_train, y_train)"
   ]
  },
  {
   "cell_type": "code",
   "execution_count": 7,
   "id": "59c0449b",
   "metadata": {},
   "outputs": [],
   "source": [
    "y_pred_xgb = model.predict(X_test)"
   ]
  },
  {
   "cell_type": "code",
   "execution_count": 8,
   "id": "47b5ba62",
   "metadata": {},
   "outputs": [
    {
     "name": "stdout",
     "output_type": "stream",
     "text": [
      "[[850463   2097]\n",
      " [  3634   6003]]\n",
      "              precision    recall  f1-score   support\n",
      "\n",
      "           0       1.00      1.00      1.00    852560\n",
      "           1       0.74      0.62      0.68      9637\n",
      "\n",
      "    accuracy                           0.99    862197\n",
      "   macro avg       0.87      0.81      0.84    862197\n",
      "weighted avg       0.99      0.99      0.99    862197\n",
      "\n"
     ]
    }
   ],
   "source": [
    "print(confusion_matrix(y_test, y_pred_xgb))\n",
    "print(classification_report(y_test, y_pred_xgb))"
   ]
  },
  {
   "cell_type": "code",
   "execution_count": 9,
   "id": "29d25efd",
   "metadata": {},
   "outputs": [
    {
     "name": "stdout",
     "output_type": "stream",
     "text": [
      "[[850463   2097]\n",
      " [  3634   6003]]\n",
      "              precision    recall  f1-score   support\n",
      "\n",
      "           0       1.00      1.00      1.00    852560\n",
      "           1       0.74      0.62      0.68      9637\n",
      "\n",
      "    accuracy                           0.99    862197\n",
      "   macro avg       0.87      0.81      0.84    862197\n",
      "weighted avg       0.99      0.99      0.99    862197\n",
      "\n"
     ]
    }
   ],
   "source": [
    "print(confusion_matrix(y_test, y_pred_xgb))\n",
    "print(classification_report(y_test, y_pred_xgb))"
   ]
  },
  {
   "cell_type": "code",
   "execution_count": 10,
   "id": "4555308c",
   "metadata": {},
   "outputs": [
    {
     "data": {
      "text/plain": [
       "0.676153838048378"
      ]
     },
     "execution_count": 10,
     "metadata": {},
     "output_type": "execute_result"
    }
   ],
   "source": [
    "matthews_corrcoef(y_test, y_pred_xgb)"
   ]
  },
  {
   "cell_type": "markdown",
   "id": "94eb9359",
   "metadata": {},
   "source": [
    "### Probability cutoff to be set at 0.35"
   ]
  },
  {
   "cell_type": "code",
   "execution_count": 11,
   "id": "58c6a2e7",
   "metadata": {},
   "outputs": [],
   "source": [
    "probs = model.predict_proba(X_test)"
   ]
  },
  {
   "cell_type": "code",
   "execution_count": 12,
   "id": "604025a6",
   "metadata": {},
   "outputs": [],
   "source": [
    "y_pred_035 = np.where(probs >0.35, 1,0)[:,1]"
   ]
  },
  {
   "cell_type": "code",
   "execution_count": 13,
   "id": "69a9ceec",
   "metadata": {},
   "outputs": [
    {
     "data": {
      "text/plain": [
       "0.6988837810231529"
      ]
     },
     "execution_count": 13,
     "metadata": {},
     "output_type": "execute_result"
    }
   ],
   "source": [
    "matthews_corrcoef(y_test, y_pred_035)"
   ]
  },
  {
   "cell_type": "code",
   "execution_count": 32,
   "id": "6e0cc13f",
   "metadata": {},
   "outputs": [
    {
     "data": {
      "text/plain": [
       "0    0.987096\n",
       "1    0.012904\n",
       "dtype: float64"
      ]
     },
     "execution_count": 32,
     "metadata": {},
     "output_type": "execute_result"
    }
   ],
   "source": [
    "pd.Series(y_pred_035).value_counts(normalize=True)"
   ]
  },
  {
   "cell_type": "markdown",
   "id": "649012f3",
   "metadata": {},
   "source": [
    "### Predicting on sample_submission data with features"
   ]
  },
  {
   "cell_type": "code",
   "execution_count": 15,
   "id": "a2e380e4",
   "metadata": {},
   "outputs": [
    {
     "data": {
      "text/plain": [
       "XGBClassifier(base_score=None, booster=None, callbacks=None,\n",
       "              colsample_bylevel=None, colsample_bynode=None,\n",
       "              colsample_bytree=None, early_stopping_rounds=None,\n",
       "              enable_categorical=False, eval_metric=None, feature_types=None,\n",
       "              gamma=None, gpu_id=None, grow_policy=None, importance_type=None,\n",
       "              interaction_constraints=None, learning_rate=None, max_bin=None,\n",
       "              max_cat_threshold=None, max_cat_to_onehot=None,\n",
       "              max_delta_step=None, max_depth=None, max_leaves=None,\n",
       "              min_child_weight=None, missing=nan, monotone_constraints=None,\n",
       "              n_estimators=100, n_jobs=None, num_parallel_tree=None,\n",
       "              predictor=None, random_state=None, ...)"
      ]
     },
     "execution_count": 15,
     "metadata": {},
     "output_type": "execute_result"
    }
   ],
   "source": [
    "model_complete = XGBClassifier()\n",
    "model_complete.fit(X, y)"
   ]
  },
  {
   "cell_type": "code",
   "execution_count": 14,
   "id": "98ceb4da",
   "metadata": {},
   "outputs": [],
   "source": [
    "data_predict = pd.read_csv('data_predict.csv')"
   ]
  },
  {
   "cell_type": "code",
   "execution_count": 18,
   "id": "d8f710f2",
   "metadata": {},
   "outputs": [],
   "source": [
    "data_predict_contact_id = pd.read_csv('train_with_contact_id.csv')"
   ]
  },
  {
   "cell_type": "code",
   "execution_count": 16,
   "id": "4e1158f2",
   "metadata": {},
   "outputs": [],
   "source": [
    "probs_predict = model_complete.predict_proba(data_predict.drop('contact',axis =1))"
   ]
  },
  {
   "cell_type": "code",
   "execution_count": 17,
   "id": "6b9542a4",
   "metadata": {},
   "outputs": [],
   "source": [
    "data_predict['contact'] = np.where(probs_predict >0.35, 1,0)[:,1]"
   ]
  },
  {
   "cell_type": "code",
   "execution_count": 19,
   "id": "e55d5056",
   "metadata": {},
   "outputs": [],
   "source": [
    "data_predict_contact_id['contact']=np.where(probs_predict >0.35, 1,0)[:,1]"
   ]
  },
  {
   "cell_type": "code",
   "execution_count": 20,
   "id": "d60f6625",
   "metadata": {},
   "outputs": [
    {
     "data": {
      "text/html": [
       "<div>\n",
       "<style scoped>\n",
       "    .dataframe tbody tr th:only-of-type {\n",
       "        vertical-align: middle;\n",
       "    }\n",
       "\n",
       "    .dataframe tbody tr th {\n",
       "        vertical-align: top;\n",
       "    }\n",
       "\n",
       "    .dataframe thead th {\n",
       "        text-align: right;\n",
       "    }\n",
       "</style>\n",
       "<table border=\"1\" class=\"dataframe\">\n",
       "  <thead>\n",
       "    <tr style=\"text-align: right;\">\n",
       "      <th></th>\n",
       "      <th>contact_id</th>\n",
       "      <th>contact</th>\n",
       "      <th>game_play</th>\n",
       "      <th>step</th>\n",
       "      <th>nfl_player_id_1</th>\n",
       "      <th>nfl_player_id_2</th>\n",
       "      <th>team_id_1</th>\n",
       "      <th>position_id_1</th>\n",
       "      <th>jersey_number_id_1</th>\n",
       "      <th>x_position_id_1</th>\n",
       "      <th>...</th>\n",
       "      <th>sa_diff_w_lag1_id_2</th>\n",
       "      <th>x_position_lag1_id_2</th>\n",
       "      <th>y_position_lag1_id_2</th>\n",
       "      <th>x_position_lag2_id_2</th>\n",
       "      <th>y_position_lag2_id_2</th>\n",
       "      <th>dist_lag2</th>\n",
       "      <th>dist_lag1</th>\n",
       "      <th>dist</th>\n",
       "      <th>dist_lag1_lag2</th>\n",
       "      <th>dist_current_lag1</th>\n",
       "    </tr>\n",
       "  </thead>\n",
       "  <tbody>\n",
       "    <tr>\n",
       "      <th>0</th>\n",
       "      <td>58168_003392_0_38590_43854</td>\n",
       "      <td>0</td>\n",
       "      <td>58168_003392</td>\n",
       "      <td>0</td>\n",
       "      <td>38590</td>\n",
       "      <td>43854</td>\n",
       "      <td>home</td>\n",
       "      <td>G</td>\n",
       "      <td>70</td>\n",
       "      <td>40.33</td>\n",
       "      <td>...</td>\n",
       "      <td>1.08</td>\n",
       "      <td>42.43</td>\n",
       "      <td>17.47</td>\n",
       "      <td>42.41</td>\n",
       "      <td>17.42</td>\n",
       "      <td>8.171328</td>\n",
       "      <td>8.124340</td>\n",
       "      <td>8.650763</td>\n",
       "      <td>-0.046988</td>\n",
       "      <td>0.526423</td>\n",
       "    </tr>\n",
       "    <tr>\n",
       "      <th>1</th>\n",
       "      <td>58168_003392_0_38590_41257</td>\n",
       "      <td>0</td>\n",
       "      <td>58168_003392</td>\n",
       "      <td>0</td>\n",
       "      <td>38590</td>\n",
       "      <td>41257</td>\n",
       "      <td>home</td>\n",
       "      <td>G</td>\n",
       "      <td>70</td>\n",
       "      <td>40.33</td>\n",
       "      <td>...</td>\n",
       "      <td>0.88</td>\n",
       "      <td>46.43</td>\n",
       "      <td>26.84</td>\n",
       "      <td>46.46</td>\n",
       "      <td>26.94</td>\n",
       "      <td>6.871863</td>\n",
       "      <td>6.861385</td>\n",
       "      <td>11.112592</td>\n",
       "      <td>-0.010478</td>\n",
       "      <td>4.251207</td>\n",
       "    </tr>\n",
       "    <tr>\n",
       "      <th>2</th>\n",
       "      <td>58168_003392_0_38590_41944</td>\n",
       "      <td>0</td>\n",
       "      <td>58168_003392</td>\n",
       "      <td>0</td>\n",
       "      <td>38590</td>\n",
       "      <td>41944</td>\n",
       "      <td>home</td>\n",
       "      <td>G</td>\n",
       "      <td>70</td>\n",
       "      <td>40.33</td>\n",
       "      <td>...</td>\n",
       "      <td>0.91</td>\n",
       "      <td>42.67</td>\n",
       "      <td>23.26</td>\n",
       "      <td>42.67</td>\n",
       "      <td>23.24</td>\n",
       "      <td>3.442005</td>\n",
       "      <td>3.453143</td>\n",
       "      <td>2.948525</td>\n",
       "      <td>0.011138</td>\n",
       "      <td>-0.504618</td>\n",
       "    </tr>\n",
       "    <tr>\n",
       "      <th>3</th>\n",
       "      <td>58168_003392_0_38590_42386</td>\n",
       "      <td>0</td>\n",
       "      <td>58168_003392</td>\n",
       "      <td>0</td>\n",
       "      <td>38590</td>\n",
       "      <td>42386</td>\n",
       "      <td>home</td>\n",
       "      <td>G</td>\n",
       "      <td>70</td>\n",
       "      <td>40.33</td>\n",
       "      <td>...</td>\n",
       "      <td>0.61</td>\n",
       "      <td>45.20</td>\n",
       "      <td>22.21</td>\n",
       "      <td>45.20</td>\n",
       "      <td>22.25</td>\n",
       "      <td>6.121340</td>\n",
       "      <td>6.166036</td>\n",
       "      <td>5.711716</td>\n",
       "      <td>0.044696</td>\n",
       "      <td>-0.454320</td>\n",
       "    </tr>\n",
       "    <tr>\n",
       "      <th>4</th>\n",
       "      <td>58168_003392_0_38590_47944</td>\n",
       "      <td>0</td>\n",
       "      <td>58168_003392</td>\n",
       "      <td>0</td>\n",
       "      <td>38590</td>\n",
       "      <td>47944</td>\n",
       "      <td>home</td>\n",
       "      <td>G</td>\n",
       "      <td>70</td>\n",
       "      <td>40.33</td>\n",
       "      <td>...</td>\n",
       "      <td>1.36</td>\n",
       "      <td>43.11</td>\n",
       "      <td>24.55</td>\n",
       "      <td>43.06</td>\n",
       "      <td>24.66</td>\n",
       "      <td>3.279893</td>\n",
       "      <td>3.383622</td>\n",
       "      <td>2.196110</td>\n",
       "      <td>0.103729</td>\n",
       "      <td>-1.187512</td>\n",
       "    </tr>\n",
       "  </tbody>\n",
       "</table>\n",
       "<p>5 rows × 67 columns</p>\n",
       "</div>"
      ],
      "text/plain": [
       "                   contact_id  contact     game_play  step  nfl_player_id_1  \\\n",
       "0  58168_003392_0_38590_43854        0  58168_003392     0            38590   \n",
       "1  58168_003392_0_38590_41257        0  58168_003392     0            38590   \n",
       "2  58168_003392_0_38590_41944        0  58168_003392     0            38590   \n",
       "3  58168_003392_0_38590_42386        0  58168_003392     0            38590   \n",
       "4  58168_003392_0_38590_47944        0  58168_003392     0            38590   \n",
       "\n",
       "   nfl_player_id_2 team_id_1 position_id_1  jersey_number_id_1  \\\n",
       "0            43854      home             G                  70   \n",
       "1            41257      home             G                  70   \n",
       "2            41944      home             G                  70   \n",
       "3            42386      home             G                  70   \n",
       "4            47944      home             G                  70   \n",
       "\n",
       "   x_position_id_1  ...  sa_diff_w_lag1_id_2  x_position_lag1_id_2  \\\n",
       "0            40.33  ...                 1.08                 42.43   \n",
       "1            40.33  ...                 0.88                 46.43   \n",
       "2            40.33  ...                 0.91                 42.67   \n",
       "3            40.33  ...                 0.61                 45.20   \n",
       "4            40.33  ...                 1.36                 43.11   \n",
       "\n",
       "   y_position_lag1_id_2  x_position_lag2_id_2  y_position_lag2_id_2  \\\n",
       "0                 17.47                 42.41                 17.42   \n",
       "1                 26.84                 46.46                 26.94   \n",
       "2                 23.26                 42.67                 23.24   \n",
       "3                 22.21                 45.20                 22.25   \n",
       "4                 24.55                 43.06                 24.66   \n",
       "\n",
       "   dist_lag2  dist_lag1       dist dist_lag1_lag2  dist_current_lag1  \n",
       "0   8.171328   8.124340   8.650763      -0.046988           0.526423  \n",
       "1   6.871863   6.861385  11.112592      -0.010478           4.251207  \n",
       "2   3.442005   3.453143   2.948525       0.011138          -0.504618  \n",
       "3   6.121340   6.166036   5.711716       0.044696          -0.454320  \n",
       "4   3.279893   3.383622   2.196110       0.103729          -1.187512  \n",
       "\n",
       "[5 rows x 67 columns]"
      ]
     },
     "execution_count": 20,
     "metadata": {},
     "output_type": "execute_result"
    }
   ],
   "source": [
    "data_predict_contact_id.head()"
   ]
  },
  {
   "cell_type": "code",
   "execution_count": 33,
   "id": "2a43e415",
   "metadata": {},
   "outputs": [
    {
     "data": {
      "text/plain": [
       "0    0.986306\n",
       "1    0.013694\n",
       "Name: contact, dtype: float64"
      ]
     },
     "execution_count": 33,
     "metadata": {},
     "output_type": "execute_result"
    }
   ],
   "source": [
    "data_predict_contact_id.contact.value_counts(normalize=True)"
   ]
  },
  {
   "cell_type": "code",
   "execution_count": 25,
   "id": "42071634",
   "metadata": {},
   "outputs": [],
   "source": [
    "data_predict_contact_id[['contact_id','contact']].to_csv('submissions_pp.csv', index = False)"
   ]
  },
  {
   "cell_type": "code",
   "execution_count": 36,
   "id": "f53102d0",
   "metadata": {},
   "outputs": [],
   "source": [
    "df_pp = data_predict_contact_id[['contact_id','contact']]"
   ]
  },
  {
   "cell_type": "markdown",
   "id": "078fe56d",
   "metadata": {},
   "source": [
    "#### Loading Reubens"
   ]
  },
  {
   "cell_type": "code",
   "execution_count": 34,
   "id": "a2f8f804",
   "metadata": {},
   "outputs": [],
   "source": [
    "data_g = pd.read_parquet('test_data_v5_predicted_labels.parquet')"
   ]
  },
  {
   "cell_type": "code",
   "execution_count": 35,
   "id": "5338df65",
   "metadata": {},
   "outputs": [
    {
     "data": {
      "text/plain": [
       "0    4058\n",
       "1     254\n",
       "Name: contact, dtype: int64"
      ]
     },
     "execution_count": 35,
     "metadata": {},
     "output_type": "execute_result"
    }
   ],
   "source": [
    "data_g.contact.value_counts()"
   ]
  },
  {
   "cell_type": "code",
   "execution_count": 41,
   "id": "6e7143bc",
   "metadata": {},
   "outputs": [],
   "source": [
    "df_submit = pd.concat([df_pp,data_g], ignore_index=False)"
   ]
  },
  {
   "cell_type": "code",
   "execution_count": 52,
   "id": "79cfcef5",
   "metadata": {},
   "outputs": [],
   "source": [
    "df_pp.to_csv('prediction_pp.csv',index=False)"
   ]
  },
  {
   "cell_type": "code",
   "execution_count": 45,
   "id": "67e26d35",
   "metadata": {},
   "outputs": [],
   "source": [
    "df_sample = pd.read_csv('sample_submission.csv')"
   ]
  },
  {
   "cell_type": "code",
   "execution_count": null,
   "id": "a4c52a63",
   "metadata": {},
   "outputs": [],
   "source": []
  },
  {
   "cell_type": "code",
   "execution_count": 42,
   "id": "d3e14b52",
   "metadata": {},
   "outputs": [],
   "source": [
    "df_submit.to_csv('submission.csv', index=False)"
   ]
  },
  {
   "cell_type": "code",
   "execution_count": 48,
   "id": "407f4012",
   "metadata": {},
   "outputs": [],
   "source": [
    "df_submit_v2 = df_sample.drop('contact',axis=1).merge(df_submit,on=['contact_id'],how='left')"
   ]
  },
  {
   "cell_type": "code",
   "execution_count": 49,
   "id": "5647b498",
   "metadata": {},
   "outputs": [
    {
     "data": {
      "text/html": [
       "<div>\n",
       "<style scoped>\n",
       "    .dataframe tbody tr th:only-of-type {\n",
       "        vertical-align: middle;\n",
       "    }\n",
       "\n",
       "    .dataframe tbody tr th {\n",
       "        vertical-align: top;\n",
       "    }\n",
       "\n",
       "    .dataframe thead th {\n",
       "        text-align: right;\n",
       "    }\n",
       "</style>\n",
       "<table border=\"1\" class=\"dataframe\">\n",
       "  <thead>\n",
       "    <tr style=\"text-align: right;\">\n",
       "      <th></th>\n",
       "      <th>contact_id</th>\n",
       "      <th>contact</th>\n",
       "    </tr>\n",
       "  </thead>\n",
       "  <tbody>\n",
       "    <tr>\n",
       "      <th>0</th>\n",
       "      <td>58168_003392_0_38590_43854</td>\n",
       "      <td>0</td>\n",
       "    </tr>\n",
       "    <tr>\n",
       "      <th>1</th>\n",
       "      <td>58168_003392_0_38590_41257</td>\n",
       "      <td>0</td>\n",
       "    </tr>\n",
       "    <tr>\n",
       "      <th>2</th>\n",
       "      <td>58168_003392_0_38590_41944</td>\n",
       "      <td>0</td>\n",
       "    </tr>\n",
       "    <tr>\n",
       "      <th>3</th>\n",
       "      <td>58168_003392_0_38590_42386</td>\n",
       "      <td>0</td>\n",
       "    </tr>\n",
       "    <tr>\n",
       "      <th>4</th>\n",
       "      <td>58168_003392_0_38590_47944</td>\n",
       "      <td>0</td>\n",
       "    </tr>\n",
       "  </tbody>\n",
       "</table>\n",
       "</div>"
      ],
      "text/plain": [
       "                   contact_id  contact\n",
       "0  58168_003392_0_38590_43854        0\n",
       "1  58168_003392_0_38590_41257        0\n",
       "2  58168_003392_0_38590_41944        0\n",
       "3  58168_003392_0_38590_42386        0\n",
       "4  58168_003392_0_38590_47944        0"
      ]
     },
     "execution_count": 49,
     "metadata": {},
     "output_type": "execute_result"
    }
   ],
   "source": [
    "df_submit_v2.head()"
   ]
  },
  {
   "cell_type": "code",
   "execution_count": 51,
   "id": "b02b4c55",
   "metadata": {},
   "outputs": [
    {
     "data": {
      "text/plain": [
       "49588"
      ]
     },
     "execution_count": 51,
     "metadata": {},
     "output_type": "execute_result"
    }
   ],
   "source": [
    "np.sum(df_submit_v2.contact_id == df_sample.contact_id)"
   ]
  },
  {
   "cell_type": "code",
   "execution_count": null,
   "id": "b400b2a5",
   "metadata": {},
   "outputs": [],
   "source": []
  }
 ],
 "metadata": {
  "kernelspec": {
   "display_name": "venv-hackathon",
   "language": "python",
   "name": "venv-hackathon"
  },
  "language_info": {
   "codemirror_mode": {
    "name": "ipython",
    "version": 3
   },
   "file_extension": ".py",
   "mimetype": "text/x-python",
   "name": "python",
   "nbconvert_exporter": "python",
   "pygments_lexer": "ipython3",
   "version": "3.9.6"
  }
 },
 "nbformat": 4,
 "nbformat_minor": 5
}
