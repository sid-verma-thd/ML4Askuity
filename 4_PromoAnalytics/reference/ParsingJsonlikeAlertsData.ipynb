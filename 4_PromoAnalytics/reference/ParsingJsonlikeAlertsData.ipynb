{
 "cells": [
  {
   "cell_type": "markdown",
   "id": "54302971",
   "metadata": {},
   "source": [
    "## Parsing Sales Alerts\n",
    "\n",
    "This notebook is used to parse json like sales alerts data\n",
    "    "
   ]
  },
  {
   "cell_type": "markdown",
   "id": "27376712",
   "metadata": {},
   "source": [
    "#### Importing Libraries"
   ]
  },
  {
   "cell_type": "code",
   "execution_count": 111,
   "id": "c4267109",
   "metadata": {},
   "outputs": [],
   "source": [
    "import pandas as pd\n",
    "import numpy as np\n",
    "import json\n",
    "pd.set_option('display.max_columns', 500)\n",
    "pd.set_option('display.max_rows', 500)"
   ]
  },
  {
   "cell_type": "code",
   "execution_count": 168,
   "id": "f5e4f1b2",
   "metadata": {
    "scrolled": true
   },
   "outputs": [
    {
     "data": {
      "text/html": [
       "<div>\n",
       "<style scoped>\n",
       "    .dataframe tbody tr th:only-of-type {\n",
       "        vertical-align: middle;\n",
       "    }\n",
       "\n",
       "    .dataframe tbody tr th {\n",
       "        vertical-align: top;\n",
       "    }\n",
       "\n",
       "    .dataframe thead th {\n",
       "        text-align: right;\n",
       "    }\n",
       "</style>\n",
       "<table border=\"1\" class=\"dataframe\">\n",
       "  <thead>\n",
       "    <tr style=\"text-align: right;\">\n",
       "      <th></th>\n",
       "      <th>week</th>\n",
       "      <th>userid</th>\n",
       "      <th>data</th>\n",
       "    </tr>\n",
       "  </thead>\n",
       "  <tbody>\n",
       "    <tr>\n",
       "      <th>0</th>\n",
       "      <td>2022-12-25</td>\n",
       "      <td>cxb9ke5</td>\n",
       "      <td>{'notification_count': 2, 'sales_alert': [{'DE...</td>\n",
       "    </tr>\n",
       "    <tr>\n",
       "      <th>1</th>\n",
       "      <td>2022-12-18</td>\n",
       "      <td>cxb9ke5</td>\n",
       "      <td>{'notification_count': 1, 'sales_alert': [{'DE...</td>\n",
       "    </tr>\n",
       "    <tr>\n",
       "      <th>2</th>\n",
       "      <td>2022-08-14</td>\n",
       "      <td>cxb9ke5</td>\n",
       "      <td>{'notification_count': 1, 'sales_alert': [{'DE...</td>\n",
       "    </tr>\n",
       "    <tr>\n",
       "      <th>3</th>\n",
       "      <td>2022-07-10</td>\n",
       "      <td>cxb9ke5</td>\n",
       "      <td>{'notification_count': 2, 'sales_alert': [{'DE...</td>\n",
       "    </tr>\n",
       "    <tr>\n",
       "      <th>4</th>\n",
       "      <td>2022-05-08</td>\n",
       "      <td>cxb9ke5</td>\n",
       "      <td>{'notification_count': 1, 'sales_alert': [{'DE...</td>\n",
       "    </tr>\n",
       "  </tbody>\n",
       "</table>\n",
       "</div>"
      ],
      "text/plain": [
       "         week   userid                                               data\n",
       "0  2022-12-25  cxb9ke5  {'notification_count': 2, 'sales_alert': [{'DE...\n",
       "1  2022-12-18  cxb9ke5  {'notification_count': 1, 'sales_alert': [{'DE...\n",
       "2  2022-08-14  cxb9ke5  {'notification_count': 1, 'sales_alert': [{'DE...\n",
       "3  2022-07-10  cxb9ke5  {'notification_count': 2, 'sales_alert': [{'DE...\n",
       "4  2022-05-08  cxb9ke5  {'notification_count': 1, 'sales_alert': [{'DE..."
      ]
     },
     "execution_count": 168,
     "metadata": {},
     "output_type": "execute_result"
    }
   ],
   "source": [
    "df_sales = pd.read_csv('sales_alerts_2022_multithread.csv')\n",
    "df_sales.head()"
   ]
  },
  {
   "cell_type": "code",
   "execution_count": 169,
   "id": "17c05188",
   "metadata": {},
   "outputs": [
    {
     "data": {
      "text/plain": [
       "(394928, 3)"
      ]
     },
     "execution_count": 169,
     "metadata": {},
     "output_type": "execute_result"
    }
   ],
   "source": [
    "df_sales.shape"
   ]
  },
  {
   "cell_type": "code",
   "execution_count": 170,
   "id": "c133f4e4",
   "metadata": {
    "scrolled": true
   },
   "outputs": [
    {
     "data": {
      "text/html": [
       "<div>\n",
       "<style scoped>\n",
       "    .dataframe tbody tr th:only-of-type {\n",
       "        vertical-align: middle;\n",
       "    }\n",
       "\n",
       "    .dataframe tbody tr th {\n",
       "        vertical-align: top;\n",
       "    }\n",
       "\n",
       "    .dataframe thead th {\n",
       "        text-align: right;\n",
       "    }\n",
       "</style>\n",
       "<table border=\"1\" class=\"dataframe\">\n",
       "  <thead>\n",
       "    <tr style=\"text-align: right;\">\n",
       "      <th></th>\n",
       "      <th>data</th>\n",
       "    </tr>\n",
       "  </thead>\n",
       "  <tbody>\n",
       "    <tr>\n",
       "      <th>0</th>\n",
       "      <td>{'notification_count': 2, 'sales_alert': [{'DE...</td>\n",
       "    </tr>\n",
       "    <tr>\n",
       "      <th>1</th>\n",
       "      <td>{'notification_count': 1, 'sales_alert': [{'DE...</td>\n",
       "    </tr>\n",
       "    <tr>\n",
       "      <th>2</th>\n",
       "      <td>{'notification_count': 1, 'sales_alert': [{'DE...</td>\n",
       "    </tr>\n",
       "    <tr>\n",
       "      <th>3</th>\n",
       "      <td>{'notification_count': 2, 'sales_alert': [{'DE...</td>\n",
       "    </tr>\n",
       "    <tr>\n",
       "      <th>4</th>\n",
       "      <td>{'notification_count': 1, 'sales_alert': [{'DE...</td>\n",
       "    </tr>\n",
       "    <tr>\n",
       "      <th>5</th>\n",
       "      <td>{'notification_count': 1, 'sales_alert': [{'DE...</td>\n",
       "    </tr>\n",
       "    <tr>\n",
       "      <th>6</th>\n",
       "      <td>{'notification_count': 1, 'sales_alert': [{'DE...</td>\n",
       "    </tr>\n",
       "    <tr>\n",
       "      <th>7</th>\n",
       "      <td>{'notification_count': 2, 'sales_alert': [{'DE...</td>\n",
       "    </tr>\n",
       "    <tr>\n",
       "      <th>8</th>\n",
       "      <td>{'notification_count': 1, 'sales_alert': [{'DE...</td>\n",
       "    </tr>\n",
       "    <tr>\n",
       "      <th>9</th>\n",
       "      <td>{'notification_count': 1, 'sales_alert': [{'DE...</td>\n",
       "    </tr>\n",
       "  </tbody>\n",
       "</table>\n",
       "</div>"
      ],
      "text/plain": [
       "                                                data\n",
       "0  {'notification_count': 2, 'sales_alert': [{'DE...\n",
       "1  {'notification_count': 1, 'sales_alert': [{'DE...\n",
       "2  {'notification_count': 1, 'sales_alert': [{'DE...\n",
       "3  {'notification_count': 2, 'sales_alert': [{'DE...\n",
       "4  {'notification_count': 1, 'sales_alert': [{'DE...\n",
       "5  {'notification_count': 1, 'sales_alert': [{'DE...\n",
       "6  {'notification_count': 1, 'sales_alert': [{'DE...\n",
       "7  {'notification_count': 2, 'sales_alert': [{'DE...\n",
       "8  {'notification_count': 1, 'sales_alert': [{'DE...\n",
       "9  {'notification_count': 1, 'sales_alert': [{'DE..."
      ]
     },
     "execution_count": 170,
     "metadata": {},
     "output_type": "execute_result"
    }
   ],
   "source": [
    "pd.DataFrame(df_sales.data)[0:10]"
   ]
  },
  {
   "cell_type": "markdown",
   "id": "68eec610",
   "metadata": {},
   "source": [
    "#### Breaking down the alerts into two main columns `notification_count` and `sales_alert`"
   ]
  },
  {
   "cell_type": "code",
   "execution_count": 171,
   "id": "1eeef948",
   "metadata": {},
   "outputs": [],
   "source": [
    "df_sales['notification_count'] = df_sales.apply(lambda row: eval(row['data'])['notification_count'],\n",
    "                     axis=1)"
   ]
  },
  {
   "cell_type": "code",
   "execution_count": 172,
   "id": "a4118143",
   "metadata": {},
   "outputs": [],
   "source": [
    "df_sales['sales_alert'] = df_sales.apply(lambda row: eval(row['data'])['sales_alert'],\n",
    "                     axis=1)"
   ]
  },
  {
   "cell_type": "markdown",
   "id": "9e364362",
   "metadata": {},
   "source": [
    "#### Parsing sales alert column"
   ]
  },
  {
   "cell_type": "code",
   "execution_count": 173,
   "id": "f0ce4142",
   "metadata": {},
   "outputs": [],
   "source": [
    "df_sales = df_sales.explode('sales_alert')\n"
   ]
  },
  {
   "cell_type": "code",
   "execution_count": 174,
   "id": "accd9491",
   "metadata": {
    "scrolled": false
   },
   "outputs": [
    {
     "data": {
      "text/html": [
       "<div>\n",
       "<style scoped>\n",
       "    .dataframe tbody tr th:only-of-type {\n",
       "        vertical-align: middle;\n",
       "    }\n",
       "\n",
       "    .dataframe tbody tr th {\n",
       "        vertical-align: top;\n",
       "    }\n",
       "\n",
       "    .dataframe thead th {\n",
       "        text-align: right;\n",
       "    }\n",
       "</style>\n",
       "<table border=\"1\" class=\"dataframe\">\n",
       "  <thead>\n",
       "    <tr style=\"text-align: right;\">\n",
       "      <th></th>\n",
       "      <th>week</th>\n",
       "      <th>userid</th>\n",
       "      <th>data</th>\n",
       "      <th>notification_count</th>\n",
       "      <th>sales_alert</th>\n",
       "    </tr>\n",
       "  </thead>\n",
       "  <tbody>\n",
       "    <tr>\n",
       "      <th>0</th>\n",
       "      <td>2022-12-25</td>\n",
       "      <td>cxb9ke5</td>\n",
       "      <td>{'notification_count': 2, 'sales_alert': [{'DE...</td>\n",
       "      <td>2</td>\n",
       "      <td>{'DECREASE': True, 'ANOMALY_DURATION': 2, 'SKU...</td>\n",
       "    </tr>\n",
       "    <tr>\n",
       "      <th>0</th>\n",
       "      <td>2022-12-25</td>\n",
       "      <td>cxb9ke5</td>\n",
       "      <td>{'notification_count': 2, 'sales_alert': [{'DE...</td>\n",
       "      <td>2</td>\n",
       "      <td>{'DECREASE': True, 'ANOMALY_DURATION': 2, 'SKU...</td>\n",
       "    </tr>\n",
       "    <tr>\n",
       "      <th>1</th>\n",
       "      <td>2022-12-18</td>\n",
       "      <td>cxb9ke5</td>\n",
       "      <td>{'notification_count': 1, 'sales_alert': [{'DE...</td>\n",
       "      <td>1</td>\n",
       "      <td>{'DECREASE': True, 'ANOMALY_DURATION': 2, 'SKU...</td>\n",
       "    </tr>\n",
       "    <tr>\n",
       "      <th>2</th>\n",
       "      <td>2022-08-14</td>\n",
       "      <td>cxb9ke5</td>\n",
       "      <td>{'notification_count': 1, 'sales_alert': [{'DE...</td>\n",
       "      <td>1</td>\n",
       "      <td>{'DECREASE': False, 'ANOMALY_DURATION': 2, 'SK...</td>\n",
       "    </tr>\n",
       "    <tr>\n",
       "      <th>3</th>\n",
       "      <td>2022-07-10</td>\n",
       "      <td>cxb9ke5</td>\n",
       "      <td>{'notification_count': 2, 'sales_alert': [{'DE...</td>\n",
       "      <td>2</td>\n",
       "      <td>{'DECREASE': True, 'ANOMALY_DURATION': 2, 'SKU...</td>\n",
       "    </tr>\n",
       "  </tbody>\n",
       "</table>\n",
       "</div>"
      ],
      "text/plain": [
       "         week   userid                                               data  \\\n",
       "0  2022-12-25  cxb9ke5  {'notification_count': 2, 'sales_alert': [{'DE...   \n",
       "0  2022-12-25  cxb9ke5  {'notification_count': 2, 'sales_alert': [{'DE...   \n",
       "1  2022-12-18  cxb9ke5  {'notification_count': 1, 'sales_alert': [{'DE...   \n",
       "2  2022-08-14  cxb9ke5  {'notification_count': 1, 'sales_alert': [{'DE...   \n",
       "3  2022-07-10  cxb9ke5  {'notification_count': 2, 'sales_alert': [{'DE...   \n",
       "\n",
       "   notification_count                                        sales_alert  \n",
       "0                   2  {'DECREASE': True, 'ANOMALY_DURATION': 2, 'SKU...  \n",
       "0                   2  {'DECREASE': True, 'ANOMALY_DURATION': 2, 'SKU...  \n",
       "1                   1  {'DECREASE': True, 'ANOMALY_DURATION': 2, 'SKU...  \n",
       "2                   1  {'DECREASE': False, 'ANOMALY_DURATION': 2, 'SK...  \n",
       "3                   2  {'DECREASE': True, 'ANOMALY_DURATION': 2, 'SKU...  "
      ]
     },
     "execution_count": 174,
     "metadata": {},
     "output_type": "execute_result"
    }
   ],
   "source": [
    "df_sales.head()"
   ]
  },
  {
   "cell_type": "code",
   "execution_count": 120,
   "id": "f95b9946",
   "metadata": {},
   "outputs": [],
   "source": [
    "df_sales['sales_alert']=[{**dc,**{'week':w}, **{'userid':u}, **{'notification_count':notif_cnt}} for dc,w,u,notif_cnt in\\\n",
    "                         zip(df_sales['sales_alert'],df_sales['week'],df_sales['userid'],df_sales['notification_count'])]\n",
    "df_sales = pd.DataFrame(df_sales['sales_alert'].tolist())"
   ]
  },
  {
   "cell_type": "code",
   "execution_count": 178,
   "id": "0169d5a1",
   "metadata": {
    "scrolled": true
   },
   "outputs": [
    {
     "name": "stderr",
     "output_type": "stream",
     "text": [
      "/Users/ET92ZFW/Projects/1_PromoAnalytics/venv-promo/lib/python3.9/site-packages/pandas/core/internals/blocks.py:2323: RuntimeWarning: invalid value encountered in cast\n",
      "  values = values.astype(str)\n",
      "\n",
      "KeyboardInterrupt\n",
      "\n"
     ]
    }
   ],
   "source": [
    "df_sales.to_csv('parsed_sales.csv',index=False)"
   ]
  },
  {
   "cell_type": "code",
   "execution_count": 199,
   "id": "6466a781",
   "metadata": {},
   "outputs": [],
   "source": [
    "#Testing the code\n",
    "df_test = pd.read_csv('parsed_sales.csv')"
   ]
  },
  {
   "cell_type": "code",
   "execution_count": 200,
   "id": "9df83dd3",
   "metadata": {
    "scrolled": true
   },
   "outputs": [
    {
     "data": {
      "text/html": [
       "<div>\n",
       "<style scoped>\n",
       "    .dataframe tbody tr th:only-of-type {\n",
       "        vertical-align: middle;\n",
       "    }\n",
       "\n",
       "    .dataframe tbody tr th {\n",
       "        vertical-align: top;\n",
       "    }\n",
       "\n",
       "    .dataframe thead th {\n",
       "        text-align: right;\n",
       "    }\n",
       "</style>\n",
       "<table border=\"1\" class=\"dataframe\">\n",
       "  <thead>\n",
       "    <tr style=\"text-align: right;\">\n",
       "      <th></th>\n",
       "      <th>WEEK</th>\n",
       "      <th>USER_ID</th>\n",
       "      <th>NOTIFICATION_COUNT</th>\n",
       "      <th>DECREASE</th>\n",
       "      <th>ANOMALY_DURATION</th>\n",
       "      <th>SKU_CRT_DT</th>\n",
       "      <th>NOTIFICATION_METADATA</th>\n",
       "      <th>SKU_NBR</th>\n",
       "      <th>DIFFERENCE_PERC</th>\n",
       "      <th>DOLLAR_DIFF</th>\n",
       "      <th>SKU_DESC</th>\n",
       "    </tr>\n",
       "  </thead>\n",
       "  <tbody>\n",
       "    <tr>\n",
       "      <th>0</th>\n",
       "      <td>2022-12-25</td>\n",
       "      <td>cxb9ke5</td>\n",
       "      <td>2</td>\n",
       "      <td>True</td>\n",
       "      <td>2</td>\n",
       "      <td>NaN</td>\n",
       "      <td>[]</td>\n",
       "      <td>1004809670</td>\n",
       "      <td>-61.151443</td>\n",
       "      <td>-25494.11</td>\n",
       "      <td>1004809670-6' FG STEP 300LB IA</td>\n",
       "    </tr>\n",
       "    <tr>\n",
       "      <th>1</th>\n",
       "      <td>2022-12-25</td>\n",
       "      <td>cxb9ke5</td>\n",
       "      <td>2</td>\n",
       "      <td>True</td>\n",
       "      <td>2</td>\n",
       "      <td>NaN</td>\n",
       "      <td>[{'STORE_ANOMALY': [{'STORE_RANK': 2, 'DIFFERE...</td>\n",
       "      <td>1004809582</td>\n",
       "      <td>-37.511455</td>\n",
       "      <td>-170769.56</td>\n",
       "      <td>1004809582-22\\ X 54\\ AL ATTIC 8-10' 375LB. R5</td>\n",
       "    </tr>\n",
       "    <tr>\n",
       "      <th>2</th>\n",
       "      <td>2022-12-18</td>\n",
       "      <td>cxb9ke5</td>\n",
       "      <td>1</td>\n",
       "      <td>True</td>\n",
       "      <td>2</td>\n",
       "      <td>NaN</td>\n",
       "      <td>[]</td>\n",
       "      <td>1002101011</td>\n",
       "      <td>-113.458332</td>\n",
       "      <td>-22550.32</td>\n",
       "      <td>1002101011-40 FT. FIBERGLASS EXTENSION LADDER W</td>\n",
       "    </tr>\n",
       "    <tr>\n",
       "      <th>3</th>\n",
       "      <td>2022-08-14</td>\n",
       "      <td>cxb9ke5</td>\n",
       "      <td>1</td>\n",
       "      <td>False</td>\n",
       "      <td>2</td>\n",
       "      <td>NaN</td>\n",
       "      <td>[{'MKT_NBR': 16, 'STORE_ANOMALY': [{'STORE_RAN...</td>\n",
       "      <td>1004809670</td>\n",
       "      <td>87.831441</td>\n",
       "      <td>14537.50</td>\n",
       "      <td>1004809670-6' FG STEP 300LB IA</td>\n",
       "    </tr>\n",
       "    <tr>\n",
       "      <th>4</th>\n",
       "      <td>2022-07-10</td>\n",
       "      <td>cxb9ke5</td>\n",
       "      <td>2</td>\n",
       "      <td>True</td>\n",
       "      <td>2</td>\n",
       "      <td>NaN</td>\n",
       "      <td>[{'STORE_ANOMALY': [{'STORE_RANK': 1, 'DIFFERE...</td>\n",
       "      <td>1007170561</td>\n",
       "      <td>-30.820028</td>\n",
       "      <td>-24791.80</td>\n",
       "      <td>1007170561-22\\ X 54\\ 8'-10' AL FRAME ATTIC 375#</td>\n",
       "    </tr>\n",
       "    <tr>\n",
       "      <th>...</th>\n",
       "      <td>...</td>\n",
       "      <td>...</td>\n",
       "      <td>...</td>\n",
       "      <td>...</td>\n",
       "      <td>...</td>\n",
       "      <td>...</td>\n",
       "      <td>...</td>\n",
       "      <td>...</td>\n",
       "      <td>...</td>\n",
       "      <td>...</td>\n",
       "      <td>...</td>\n",
       "    </tr>\n",
       "    <tr>\n",
       "      <th>1904993</th>\n",
       "      <td>2022-02-27</td>\n",
       "      <td>txe9771</td>\n",
       "      <td>2</td>\n",
       "      <td>False</td>\n",
       "      <td>2</td>\n",
       "      <td>NaN</td>\n",
       "      <td>[{'STORE_ANOMALY': [{'STORE_RANK': 1, 'DIFFERE...</td>\n",
       "      <td>1003950578</td>\n",
       "      <td>106.622857</td>\n",
       "      <td>9898.93</td>\n",
       "      <td>1003950578-1 CU FT COW MANURE &amp; ORGANIC COMPOST</td>\n",
       "    </tr>\n",
       "    <tr>\n",
       "      <th>1904994</th>\n",
       "      <td>2022-01-02</td>\n",
       "      <td>txe9771</td>\n",
       "      <td>2</td>\n",
       "      <td>False</td>\n",
       "      <td>2</td>\n",
       "      <td>NaN</td>\n",
       "      <td>[]</td>\n",
       "      <td>1006844973</td>\n",
       "      <td>57.165669</td>\n",
       "      <td>6150.38</td>\n",
       "      <td>1006844973-BONNIE HARVEST SELECT RAISEDBED SOIL</td>\n",
       "    </tr>\n",
       "    <tr>\n",
       "      <th>1904995</th>\n",
       "      <td>2022-01-02</td>\n",
       "      <td>txe9771</td>\n",
       "      <td>2</td>\n",
       "      <td>True</td>\n",
       "      <td>5</td>\n",
       "      <td>NaN</td>\n",
       "      <td>[]</td>\n",
       "      <td>1000716974</td>\n",
       "      <td>-99.454350</td>\n",
       "      <td>-97835.78</td>\n",
       "      <td>1000716974-MIRACLE GRO CHRISTMAS TREE</td>\n",
       "    </tr>\n",
       "    <tr>\n",
       "      <th>1904996</th>\n",
       "      <td>2022-10-23</td>\n",
       "      <td>rxl93r1</td>\n",
       "      <td>1</td>\n",
       "      <td>False</td>\n",
       "      <td>2</td>\n",
       "      <td>NaN</td>\n",
       "      <td>[]</td>\n",
       "      <td>1005617764</td>\n",
       "      <td>177.976083</td>\n",
       "      <td>18244.88</td>\n",
       "      <td>1005617764-2.5QT GRAY  W/ HANDLE</td>\n",
       "    </tr>\n",
       "    <tr>\n",
       "      <th>1904997</th>\n",
       "      <td>2022-08-21</td>\n",
       "      <td>rxl93r1</td>\n",
       "      <td>1</td>\n",
       "      <td>True</td>\n",
       "      <td>2</td>\n",
       "      <td>NaN</td>\n",
       "      <td>[]</td>\n",
       "      <td>1005617764</td>\n",
       "      <td>-27.652124</td>\n",
       "      <td>-8172.53</td>\n",
       "      <td>1005617764-2.5QT GRAY  W/ HANDLE</td>\n",
       "    </tr>\n",
       "  </tbody>\n",
       "</table>\n",
       "<p>1904998 rows × 11 columns</p>\n",
       "</div>"
      ],
      "text/plain": [
       "               WEEK  USER_ID  NOTIFICATION_COUNT  DECREASE  ANOMALY_DURATION  \\\n",
       "0        2022-12-25  cxb9ke5                   2      True                 2   \n",
       "1        2022-12-25  cxb9ke5                   2      True                 2   \n",
       "2        2022-12-18  cxb9ke5                   1      True                 2   \n",
       "3        2022-08-14  cxb9ke5                   1     False                 2   \n",
       "4        2022-07-10  cxb9ke5                   2      True                 2   \n",
       "...             ...      ...                 ...       ...               ...   \n",
       "1904993  2022-02-27  txe9771                   2     False                 2   \n",
       "1904994  2022-01-02  txe9771                   2     False                 2   \n",
       "1904995  2022-01-02  txe9771                   2      True                 5   \n",
       "1904996  2022-10-23  rxl93r1                   1     False                 2   \n",
       "1904997  2022-08-21  rxl93r1                   1      True                 2   \n",
       "\n",
       "         SKU_CRT_DT                              NOTIFICATION_METADATA  \\\n",
       "0               NaN                                                 []   \n",
       "1               NaN  [{'STORE_ANOMALY': [{'STORE_RANK': 2, 'DIFFERE...   \n",
       "2               NaN                                                 []   \n",
       "3               NaN  [{'MKT_NBR': 16, 'STORE_ANOMALY': [{'STORE_RAN...   \n",
       "4               NaN  [{'STORE_ANOMALY': [{'STORE_RANK': 1, 'DIFFERE...   \n",
       "...             ...                                                ...   \n",
       "1904993         NaN  [{'STORE_ANOMALY': [{'STORE_RANK': 1, 'DIFFERE...   \n",
       "1904994         NaN                                                 []   \n",
       "1904995         NaN                                                 []   \n",
       "1904996         NaN                                                 []   \n",
       "1904997         NaN                                                 []   \n",
       "\n",
       "            SKU_NBR  DIFFERENCE_PERC  DOLLAR_DIFF  \\\n",
       "0        1004809670       -61.151443    -25494.11   \n",
       "1        1004809582       -37.511455   -170769.56   \n",
       "2        1002101011      -113.458332    -22550.32   \n",
       "3        1004809670        87.831441     14537.50   \n",
       "4        1007170561       -30.820028    -24791.80   \n",
       "...             ...              ...          ...   \n",
       "1904993  1003950578       106.622857      9898.93   \n",
       "1904994  1006844973        57.165669      6150.38   \n",
       "1904995  1000716974       -99.454350    -97835.78   \n",
       "1904996  1005617764       177.976083     18244.88   \n",
       "1904997  1005617764       -27.652124     -8172.53   \n",
       "\n",
       "                                                SKU_DESC  \n",
       "0                         1004809670-6' FG STEP 300LB IA  \n",
       "1          1004809582-22\\ X 54\\ AL ATTIC 8-10' 375LB. R5  \n",
       "2        1002101011-40 FT. FIBERGLASS EXTENSION LADDER W  \n",
       "3                         1004809670-6' FG STEP 300LB IA  \n",
       "4        1007170561-22\\ X 54\\ 8'-10' AL FRAME ATTIC 375#  \n",
       "...                                                  ...  \n",
       "1904993  1003950578-1 CU FT COW MANURE & ORGANIC COMPOST  \n",
       "1904994  1006844973-BONNIE HARVEST SELECT RAISEDBED SOIL  \n",
       "1904995            1000716974-MIRACLE GRO CHRISTMAS TREE  \n",
       "1904996                 1005617764-2.5QT GRAY  W/ HANDLE  \n",
       "1904997                 1005617764-2.5QT GRAY  W/ HANDLE  \n",
       "\n",
       "[1904998 rows x 11 columns]"
      ]
     },
     "execution_count": 200,
     "metadata": {},
     "output_type": "execute_result"
    }
   ],
   "source": [
    "df_test"
   ]
  },
  {
   "cell_type": "code",
   "execution_count": 201,
   "id": "e04b9a0b",
   "metadata": {},
   "outputs": [
    {
     "data": {
      "text/plain": [
       "(1904998, 11)"
      ]
     },
     "execution_count": 201,
     "metadata": {},
     "output_type": "execute_result"
    }
   ],
   "source": [
    "df_test.shape"
   ]
  },
  {
   "cell_type": "code",
   "execution_count": 202,
   "id": "9c110bc8",
   "metadata": {},
   "outputs": [
    {
     "data": {
      "text/plain": [
       "Index(['WEEK', 'USER_ID', 'NOTIFICATION_COUNT', 'DECREASE', 'ANOMALY_DURATION',\n",
       "       'SKU_CRT_DT', 'NOTIFICATION_METADATA', 'SKU_NBR', 'DIFFERENCE_PERC',\n",
       "       'DOLLAR_DIFF', 'SKU_DESC'],\n",
       "      dtype='object')"
      ]
     },
     "execution_count": 202,
     "metadata": {},
     "output_type": "execute_result"
    }
   ],
   "source": [
    "df_test.columns"
   ]
  },
  {
   "cell_type": "code",
   "execution_count": 203,
   "id": "8202f842",
   "metadata": {},
   "outputs": [],
   "source": [
    "df_test = df_test.loc[df_sales.astype(str).drop_duplicates().index]"
   ]
  },
  {
   "cell_type": "code",
   "execution_count": 204,
   "id": "46c722d6",
   "metadata": {},
   "outputs": [
    {
     "data": {
      "text/plain": [
       "(1904998, 11)"
      ]
     },
     "execution_count": 204,
     "metadata": {},
     "output_type": "execute_result"
    }
   ],
   "source": [
    "df_test.shape"
   ]
  },
  {
   "cell_type": "code",
   "execution_count": 205,
   "id": "98728e5c",
   "metadata": {},
   "outputs": [
    {
     "data": {
      "text/plain": [
       "WEEK        USER_ID  SKU_NBR   \n",
       "2022-01-02  4922bm   1000341904    1\n",
       "2022-10-23  txl9a5z  1000204236    1\n",
       "            txl9fgs  1005183419    1\n",
       "                     1005183351    1\n",
       "            txl9e0m  1006438411    1\n",
       "                                  ..\n",
       "2022-07-31  txh9ih0  1007473578    1\n",
       "                     1007430345    1\n",
       "                     1006703282    1\n",
       "                     1006225359    1\n",
       "2022-12-25  zxz9ly7  1007762421    1\n",
       "Length: 1904998, dtype: int64"
      ]
     },
     "execution_count": 205,
     "metadata": {},
     "output_type": "execute_result"
    }
   ],
   "source": [
    "df_test.groupby(['WEEK','USER_ID','SKU_NBR']).size().sort_values(ascending=False)"
   ]
  },
  {
   "cell_type": "code",
   "execution_count": null,
   "id": "725eddb6",
   "metadata": {},
   "outputs": [],
   "source": []
  }
 ],
 "metadata": {
  "kernelspec": {
   "display_name": "Python 3 (ipykernel)",
   "language": "python",
   "name": "python3"
  },
  "language_info": {
   "codemirror_mode": {
    "name": "ipython",
    "version": 3
   },
   "file_extension": ".py",
   "mimetype": "text/x-python",
   "name": "python",
   "nbconvert_exporter": "python",
   "pygments_lexer": "ipython3",
   "version": "3.9.12"
  }
 },
 "nbformat": 4,
 "nbformat_minor": 5
}
