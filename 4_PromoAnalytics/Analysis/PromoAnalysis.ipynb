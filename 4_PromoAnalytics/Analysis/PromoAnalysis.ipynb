{
 "cells": [
  {
   "cell_type": "markdown",
   "metadata": {},
   "source": [
    "## Promotional Analysis\n",
    "\n",
    "This analysis aims to find if there's any statistical relationship between\n",
    "- Promotions and Sales\n",
    "- Markdowns and Sales\n",
    "\n",
    "This is a continuation of the analysis from here [Exploratory Analysis](https://datastudio.google.com/u/0/reporting/69f327c1-22a4-4164-b0c1-d8895bfde7e2/page/tEnnC/edit)\n",
    "\n",
    "#### Results\n",
    "\n",
    "- **Relationship between promotions and sales** <br>\n",
    "From exploratory analysis in the jupyter notebook it was evident that there were higher sales on promotion days. We were able to corroborate the same using a statistical test(t-test)\n",
    "\n",
    "- **There seems to be a weak or no relationship between the markdowns and sales at an overall level** <br>\n",
    "Higher markdown on SKUs dont seem to drive higher sales at an overall level, which was very counter intuitive. A little deep-dive explained why that would happen. Majority of the items at the home depot are low cost items hence the overall data is biased towards low cost items.\n",
    "\n",
    "- **There are high cost SKUs that are sensitive to markdowns** <br>\n",
    "Looking only at high cost SKUs and their correlation makes it evident that there are SKUs sensitive to markdowns\n",
    "\n",
    "\n",
    "#### Next Steps\n",
    "- Work with Pooja/Reuben to overlay the results with the pricing data"
   ]
  },
  {
   "cell_type": "markdown",
   "metadata": {},
   "source": [
    "### Read Files"
   ]
  },
  {
   "cell_type": "code",
   "execution_count": 1,
   "metadata": {},
   "outputs": [],
   "source": [
    "from teamUtils import BQ_User # Pricing Analytics package we just installed\n",
    "from shapely.wkt import loads\n",
    "import pandas as pd\n",
    "import numpy as np\n",
    "import matplotlib.pyplot as plt"
   ]
  },
  {
   "cell_type": "code",
   "execution_count": 2,
   "metadata": {},
   "outputs": [],
   "source": [
    "pd.set_option(\"display.max_columns\",100)"
   ]
  },
  {
   "cell_type": "code",
   "execution_count": 3,
   "metadata": {
    "scrolled": true
   },
   "outputs": [
    {
     "name": "stdout",
     "output_type": "stream",
     "text": [
      "Please visit this URL to authorize this application: https://accounts.google.com/o/oauth2/auth?response_type=code&client_id=262006177488-3425ks60hkk80fssi9vpohv88g6q1iqd.apps.googleusercontent.com&redirect_uri=http%3A%2F%2Flocalhost%3A8080%2F&scope=https%3A%2F%2Fwww.googleapis.com%2Fauth%2Fbigquery&state=ZI0N4RENjYD6wLQLhr374LBI3iHNXg&access_type=offline\n"
     ]
    },
    {
     "name": "stderr",
     "output_type": "stream",
     "text": [
      "Unable to create credentials directory.\n"
     ]
    }
   ],
   "source": [
    "home_project='analytics-askuity-thd' # Make this the project you use in your everyday work, for example Jared would use analytics-pricing-thd\n",
    "bq = BQ_User(project_name=home_project)"
   ]
  },
  {
   "cell_type": "code",
   "execution_count": 4,
   "metadata": {},
   "outputs": [],
   "source": [
    "## This does not work, use the script to generate dataset!\n",
    "\n",
    "# sql_3 = \"\"\"SELECT\n",
    "#   *\n",
    "# FROM\n",
    "#   `analytics-askuity-thd.sid_workspace.SALES_PROMO_2022_TBL`\n",
    "# WHERE\n",
    "#   SKU_NBR IN (\n",
    "#   SELECT\n",
    "#     DISTINCT SKU_NBR\n",
    "#   FROM\n",
    "#     `analytics-askuity-thd.sid_workspace.SALES_PROMO_2022_TBL`\n",
    "#   ORDER BY\n",
    "#     RAND()\n",
    "#   LIMIT\n",
    "#     50000)\"\"\"\n",
    "\n",
    "# data = bq.SQL.to_df(sql_3)"
   ]
  },
  {
   "cell_type": "code",
   "execution_count": 5,
   "metadata": {
    "scrolled": true
   },
   "outputs": [
    {
     "name": "stderr",
     "output_type": "stream",
     "text": [
      "/var/folders/z2/rdt7vxy91fz7f7gkqbtqbgk40000gn/T/ipykernel_60258/3367979110.py:1: DtypeWarning: Columns (13,14) have mixed types. Specify dtype option on import or set low_memory=False.\n",
      "  data = pd.read_csv(\"promotions.csv\")\n"
     ]
    }
   ],
   "source": [
    "data = pd.read_csv(\"promotions.csv\")"
   ]
  },
  {
   "cell_type": "code",
   "execution_count": 6,
   "metadata": {
    "scrolled": true
   },
   "outputs": [
    {
     "data": {
      "text/html": [
       "<div>\n",
       "<style scoped>\n",
       "    .dataframe tbody tr th:only-of-type {\n",
       "        vertical-align: middle;\n",
       "    }\n",
       "\n",
       "    .dataframe tbody tr th {\n",
       "        vertical-align: top;\n",
       "    }\n",
       "\n",
       "    .dataframe thead th {\n",
       "        text-align: right;\n",
       "    }\n",
       "</style>\n",
       "<table border=\"1\" class=\"dataframe\">\n",
       "  <thead>\n",
       "    <tr style=\"text-align: right;\">\n",
       "      <th></th>\n",
       "      <th>SKU_NBR</th>\n",
       "      <th>SKU_DESC</th>\n",
       "      <th>STR_NBR</th>\n",
       "      <th>SLS_DT</th>\n",
       "      <th>MVNDR_NBR</th>\n",
       "      <th>TY_SLS</th>\n",
       "      <th>TY_SLS_UNITS</th>\n",
       "      <th>TY_RETURNS</th>\n",
       "      <th>TY_RETURN_UNITS</th>\n",
       "      <th>PROMO_ID</th>\n",
       "      <th>PROMO_RTL_AMT</th>\n",
       "      <th>PROMO_NM</th>\n",
       "      <th>PROMO_TYP</th>\n",
       "      <th>PROMO_S_DESC</th>\n",
       "      <th>PROMO_DESC</th>\n",
       "      <th>SRC_PROMO_BGN_TS</th>\n",
       "      <th>SRC_PROMO_END_TS</th>\n",
       "      <th>MKUP_MKDN_AMT</th>\n",
       "      <th>MKUP_MKDN_PCT</th>\n",
       "      <th>EFF_RTL_AMT</th>\n",
       "      <th>SRC_EFF_BGN_TS</th>\n",
       "      <th>SRC_EFF_END_TS</th>\n",
       "      <th>SRC_LAST_UPD_TS</th>\n",
       "      <th>CLR_FLG</th>\n",
       "      <th>SRC_DEL_FLG</th>\n",
       "      <th>SRC_DEL_DT</th>\n",
       "    </tr>\n",
       "  </thead>\n",
       "  <tbody>\n",
       "    <tr>\n",
       "      <th>0</th>\n",
       "      <td>1004603574</td>\n",
       "      <td>NaN</td>\n",
       "      <td>6877</td>\n",
       "      <td>2022-07-10</td>\n",
       "      <td>751001</td>\n",
       "      <td>11.97</td>\n",
       "      <td>1.0</td>\n",
       "      <td>0.0</td>\n",
       "      <td>0.0</td>\n",
       "      <td>NaN</td>\n",
       "      <td>NaN</td>\n",
       "      <td>NaN</td>\n",
       "      <td>NaN</td>\n",
       "      <td>NaN</td>\n",
       "      <td>NaN</td>\n",
       "      <td>NaN</td>\n",
       "      <td>NaN</td>\n",
       "      <td>NaN</td>\n",
       "      <td>NaN</td>\n",
       "      <td>NaN</td>\n",
       "      <td>NaN</td>\n",
       "      <td>NaN</td>\n",
       "      <td>NaN</td>\n",
       "      <td>NaN</td>\n",
       "      <td>NaN</td>\n",
       "      <td>NaN</td>\n",
       "    </tr>\n",
       "    <tr>\n",
       "      <th>1</th>\n",
       "      <td>703311</td>\n",
       "      <td>NaN</td>\n",
       "      <td>441</td>\n",
       "      <td>2022-07-31</td>\n",
       "      <td>516279</td>\n",
       "      <td>14.97</td>\n",
       "      <td>1.0</td>\n",
       "      <td>0.0</td>\n",
       "      <td>0.0</td>\n",
       "      <td>NaN</td>\n",
       "      <td>NaN</td>\n",
       "      <td>NaN</td>\n",
       "      <td>NaN</td>\n",
       "      <td>NaN</td>\n",
       "      <td>NaN</td>\n",
       "      <td>NaN</td>\n",
       "      <td>NaN</td>\n",
       "      <td>NaN</td>\n",
       "      <td>NaN</td>\n",
       "      <td>NaN</td>\n",
       "      <td>NaN</td>\n",
       "      <td>NaN</td>\n",
       "      <td>NaN</td>\n",
       "      <td>NaN</td>\n",
       "      <td>NaN</td>\n",
       "      <td>NaN</td>\n",
       "    </tr>\n",
       "    <tr>\n",
       "      <th>2</th>\n",
       "      <td>1000236729</td>\n",
       "      <td>NaN</td>\n",
       "      <td>170</td>\n",
       "      <td>2022-07-23</td>\n",
       "      <td>24046</td>\n",
       "      <td>51.47</td>\n",
       "      <td>1.0</td>\n",
       "      <td>0.0</td>\n",
       "      <td>0.0</td>\n",
       "      <td>NaN</td>\n",
       "      <td>NaN</td>\n",
       "      <td>NaN</td>\n",
       "      <td>NaN</td>\n",
       "      <td>NaN</td>\n",
       "      <td>NaN</td>\n",
       "      <td>NaN</td>\n",
       "      <td>NaN</td>\n",
       "      <td>NaN</td>\n",
       "      <td>NaN</td>\n",
       "      <td>NaN</td>\n",
       "      <td>NaN</td>\n",
       "      <td>NaN</td>\n",
       "      <td>NaN</td>\n",
       "      <td>NaN</td>\n",
       "      <td>NaN</td>\n",
       "      <td>NaN</td>\n",
       "    </tr>\n",
       "    <tr>\n",
       "      <th>3</th>\n",
       "      <td>1005645914</td>\n",
       "      <td>NaN</td>\n",
       "      <td>1171</td>\n",
       "      <td>2022-01-09</td>\n",
       "      <td>102527</td>\n",
       "      <td>12.48</td>\n",
       "      <td>1.0</td>\n",
       "      <td>0.0</td>\n",
       "      <td>0.0</td>\n",
       "      <td>NaN</td>\n",
       "      <td>NaN</td>\n",
       "      <td>NaN</td>\n",
       "      <td>NaN</td>\n",
       "      <td>NaN</td>\n",
       "      <td>NaN</td>\n",
       "      <td>NaN</td>\n",
       "      <td>NaN</td>\n",
       "      <td>NaN</td>\n",
       "      <td>NaN</td>\n",
       "      <td>NaN</td>\n",
       "      <td>NaN</td>\n",
       "      <td>NaN</td>\n",
       "      <td>NaN</td>\n",
       "      <td>NaN</td>\n",
       "      <td>NaN</td>\n",
       "      <td>NaN</td>\n",
       "    </tr>\n",
       "    <tr>\n",
       "      <th>4</th>\n",
       "      <td>1002275742</td>\n",
       "      <td>NaN</td>\n",
       "      <td>1942</td>\n",
       "      <td>2022-04-17</td>\n",
       "      <td>16635</td>\n",
       "      <td>11.25</td>\n",
       "      <td>1.0</td>\n",
       "      <td>0.0</td>\n",
       "      <td>0.0</td>\n",
       "      <td>NaN</td>\n",
       "      <td>NaN</td>\n",
       "      <td>NaN</td>\n",
       "      <td>NaN</td>\n",
       "      <td>NaN</td>\n",
       "      <td>NaN</td>\n",
       "      <td>NaN</td>\n",
       "      <td>NaN</td>\n",
       "      <td>NaN</td>\n",
       "      <td>NaN</td>\n",
       "      <td>NaN</td>\n",
       "      <td>NaN</td>\n",
       "      <td>NaN</td>\n",
       "      <td>NaN</td>\n",
       "      <td>NaN</td>\n",
       "      <td>NaN</td>\n",
       "      <td>NaN</td>\n",
       "    </tr>\n",
       "  </tbody>\n",
       "</table>\n",
       "</div>"
      ],
      "text/plain": [
       "      SKU_NBR SKU_DESC  STR_NBR      SLS_DT  MVNDR_NBR  TY_SLS  TY_SLS_UNITS  \\\n",
       "0  1004603574      NaN     6877  2022-07-10     751001   11.97           1.0   \n",
       "1      703311      NaN      441  2022-07-31     516279   14.97           1.0   \n",
       "2  1000236729      NaN      170  2022-07-23      24046   51.47           1.0   \n",
       "3  1005645914      NaN     1171  2022-01-09     102527   12.48           1.0   \n",
       "4  1002275742      NaN     1942  2022-04-17      16635   11.25           1.0   \n",
       "\n",
       "   TY_RETURNS  TY_RETURN_UNITS  PROMO_ID  PROMO_RTL_AMT PROMO_NM PROMO_TYP  \\\n",
       "0         0.0              0.0       NaN            NaN      NaN       NaN   \n",
       "1         0.0              0.0       NaN            NaN      NaN       NaN   \n",
       "2         0.0              0.0       NaN            NaN      NaN       NaN   \n",
       "3         0.0              0.0       NaN            NaN      NaN       NaN   \n",
       "4         0.0              0.0       NaN            NaN      NaN       NaN   \n",
       "\n",
       "  PROMO_S_DESC PROMO_DESC SRC_PROMO_BGN_TS SRC_PROMO_END_TS  MKUP_MKDN_AMT  \\\n",
       "0          NaN        NaN              NaN              NaN            NaN   \n",
       "1          NaN        NaN              NaN              NaN            NaN   \n",
       "2          NaN        NaN              NaN              NaN            NaN   \n",
       "3          NaN        NaN              NaN              NaN            NaN   \n",
       "4          NaN        NaN              NaN              NaN            NaN   \n",
       "\n",
       "   MKUP_MKDN_PCT  EFF_RTL_AMT SRC_EFF_BGN_TS SRC_EFF_END_TS SRC_LAST_UPD_TS  \\\n",
       "0            NaN          NaN            NaN            NaN             NaN   \n",
       "1            NaN          NaN            NaN            NaN             NaN   \n",
       "2            NaN          NaN            NaN            NaN             NaN   \n",
       "3            NaN          NaN            NaN            NaN             NaN   \n",
       "4            NaN          NaN            NaN            NaN             NaN   \n",
       "\n",
       "  CLR_FLG SRC_DEL_FLG  SRC_DEL_DT  \n",
       "0     NaN         NaN         NaN  \n",
       "1     NaN         NaN         NaN  \n",
       "2     NaN         NaN         NaN  \n",
       "3     NaN         NaN         NaN  \n",
       "4     NaN         NaN         NaN  "
      ]
     },
     "execution_count": 6,
     "metadata": {},
     "output_type": "execute_result"
    }
   ],
   "source": [
    "data.head()"
   ]
  },
  {
   "cell_type": "code",
   "execution_count": 7,
   "metadata": {},
   "outputs": [
    {
     "data": {
      "text/plain": [
       "(99367411, 26)"
      ]
     },
     "execution_count": 7,
     "metadata": {},
     "output_type": "execute_result"
    }
   ],
   "source": [
    "data.shape"
   ]
  },
  {
   "cell_type": "markdown",
   "metadata": {},
   "source": [
    "### Understanding data"
   ]
  },
  {
   "cell_type": "code",
   "execution_count": 8,
   "metadata": {},
   "outputs": [
    {
     "name": "stdout",
     "output_type": "stream",
     "text": [
      "The unique number of SKUs in the data are 50000\n",
      "The unique number of stores in the data are 1997 \n"
     ]
    }
   ],
   "source": [
    "#Check how may SKUs are there\n",
    "print(f\"The unique number of SKUs in the data are {data.SKU_NBR.drop_duplicates().count()}\")\n",
    "#Print the number of stores\n",
    "print(f\"The unique number of stores in the data are {data.STR_NBR.drop_duplicates().count()} \")"
   ]
  },
  {
   "cell_type": "code",
   "execution_count": 9,
   "metadata": {},
   "outputs": [
    {
     "name": "stderr",
     "output_type": "stream",
     "text": [
      "/var/folders/z2/rdt7vxy91fz7f7gkqbtqbgk40000gn/T/ipykernel_60258/2725220813.py:2: FutureWarning: The behavior of `series[i:j]` with an integer-dtype index is deprecated. In a future version, this will be treated as *label-based* indexing, consistent with e.g. `series[i]` lookups. To retain the old behavior, use `series.iloc[i:j]`. To get the future behavior, use `series.loc[i:j]`.\n",
      "  data.groupby('STR_NBR')['SKU_NBR'].nunique().sort_values(ascending=False)[0:10].plot.bar()\n"
     ]
    },
    {
     "data": {
      "text/plain": [
       "<AxesSubplot: xlabel='STR_NBR'>"
      ]
     },
     "execution_count": 9,
     "metadata": {},
     "output_type": "execute_result"
    },
    {
     "data": {
      "image/png": "[encoded data removed]",
      "text/plain": [
       "<Figure size 640x480 with 1 Axes>"
      ]
     },
     "metadata": {},
     "output_type": "display_data"
    }
   ],
   "source": [
    "# Stores that have the most number of SKUs\n",
    "data.groupby('STR_NBR')['SKU_NBR'].nunique().sort_values(ascending=False)[0:10].plot.bar()"
   ]
  },
  {
   "cell_type": "markdown",
   "metadata": {},
   "source": [
    "Need to look closely at the store number 8119"
   ]
  },
  {
   "cell_type": "code",
   "execution_count": 10,
   "metadata": {},
   "outputs": [],
   "source": [
    "data['SLS_DT'] = pd.to_datetime(data['SLS_DT'])"
   ]
  },
  {
   "cell_type": "code",
   "execution_count": 11,
   "metadata": {},
   "outputs": [
    {
     "name": "stdout",
     "output_type": "stream",
     "text": [
      "The number of unique SKUs with atleast one promotional event 7530\n"
     ]
    }
   ],
   "source": [
    "# Number of SKUs rows with promotions\n",
    "\n",
    "print(f\"The number of unique SKUs with atleast one promotional event {data[data.PROMO_ID.notnull()].SKU_NBR.nunique()}\")\n"
   ]
  },
  {
   "cell_type": "code",
   "execution_count": 12,
   "metadata": {},
   "outputs": [
    {
     "name": "stdout",
     "output_type": "stream",
     "text": [
      "0.0199\n"
     ]
    }
   ],
   "source": [
    "# Proportion of transactions that have promotions\n",
    "# Only 2% of the transactions have promotions on them\n",
    "print(f\"{data[data.PROMO_ID.notnull()].shape[0]/data.shape[0]:.4f}\")"
   ]
  },
  {
   "cell_type": "code",
   "execution_count": 23,
   "metadata": {},
   "outputs": [
    {
     "name": "stdout",
     "output_type": "stream",
     "text": [
      "SKUs that have atleast one promotional and atleast one non promotion event in this analysis are 6485\n",
      "And the proportion of such SKUs is 0.1297\n"
     ]
    }
   ],
   "source": [
    "#Ratio of SKUs that have both promotional as well as not promotional events\n",
    "\n",
    "SKU_promos = data[data.PROMO_ID.notnull()].SKU_NBR\n",
    "# Promo SKUs that also have non promotional events\n",
    "SKU_promos = data[(data.SKU_NBR.isin(SKU_promos)) & (data.PROMO_ID.isnull())].SKU_NBR\n",
    "\n",
    "print(f\"SKUs that have atleast one promotional and atleast one non promotion event in this analysis are {SKU_promos.nunique()}\")\n",
    "\n",
    "print(f\"And the proportion of such SKUs is {SKU_promos.nunique()/50000}\")"
   ]
  },
  {
   "cell_type": "code",
   "execution_count": 14,
   "metadata": {},
   "outputs": [
    {
     "data": {
      "text/plain": [
       "20.9102975430921"
      ]
     },
     "execution_count": 14,
     "metadata": {},
     "output_type": "execute_result"
    }
   ],
   "source": [
    "# Average MKDN for promotional events\n",
    "data[data.PROMO_ID.notnull()]['MKUP_MKDN_PCT'].mean()\n",
    "# Average sales volume during promotion time vs non-promotional instances"
   ]
  },
  {
   "cell_type": "code",
   "execution_count": 16,
   "metadata": {},
   "outputs": [
    {
     "data": {
      "text/html": [
       "<div>\n",
       "<style scoped>\n",
       "    .dataframe tbody tr th:only-of-type {\n",
       "        vertical-align: middle;\n",
       "    }\n",
       "\n",
       "    .dataframe tbody tr th {\n",
       "        vertical-align: top;\n",
       "    }\n",
       "\n",
       "    .dataframe thead th {\n",
       "        text-align: right;\n",
       "    }\n",
       "</style>\n",
       "<table border=\"1\" class=\"dataframe\">\n",
       "  <thead>\n",
       "    <tr style=\"text-align: right;\">\n",
       "      <th></th>\n",
       "      <th>SKU_NBR</th>\n",
       "      <th>SKU_DESC</th>\n",
       "      <th>STR_NBR</th>\n",
       "      <th>SLS_DT</th>\n",
       "      <th>MVNDR_NBR</th>\n",
       "      <th>TY_SLS</th>\n",
       "      <th>TY_SLS_UNITS</th>\n",
       "      <th>TY_RETURNS</th>\n",
       "      <th>TY_RETURN_UNITS</th>\n",
       "      <th>PROMO_ID</th>\n",
       "      <th>PROMO_RTL_AMT</th>\n",
       "      <th>PROMO_NM</th>\n",
       "      <th>PROMO_TYP</th>\n",
       "      <th>PROMO_S_DESC</th>\n",
       "      <th>PROMO_DESC</th>\n",
       "      <th>SRC_PROMO_BGN_TS</th>\n",
       "      <th>SRC_PROMO_END_TS</th>\n",
       "      <th>MKUP_MKDN_AMT</th>\n",
       "      <th>MKUP_MKDN_PCT</th>\n",
       "      <th>EFF_RTL_AMT</th>\n",
       "      <th>SRC_EFF_BGN_TS</th>\n",
       "      <th>SRC_EFF_END_TS</th>\n",
       "      <th>SRC_LAST_UPD_TS</th>\n",
       "      <th>CLR_FLG</th>\n",
       "      <th>SRC_DEL_FLG</th>\n",
       "      <th>SRC_DEL_DT</th>\n",
       "      <th>PROMO_FLAG</th>\n",
       "    </tr>\n",
       "  </thead>\n",
       "  <tbody>\n",
       "    <tr>\n",
       "      <th>0</th>\n",
       "      <td>1004603574</td>\n",
       "      <td>NaN</td>\n",
       "      <td>6877</td>\n",
       "      <td>2022-07-10</td>\n",
       "      <td>751001</td>\n",
       "      <td>11.97</td>\n",
       "      <td>1.0</td>\n",
       "      <td>0.0</td>\n",
       "      <td>0.0</td>\n",
       "      <td>NaN</td>\n",
       "      <td>NaN</td>\n",
       "      <td>NaN</td>\n",
       "      <td>NaN</td>\n",
       "      <td>NaN</td>\n",
       "      <td>NaN</td>\n",
       "      <td>NaN</td>\n",
       "      <td>NaN</td>\n",
       "      <td>NaN</td>\n",
       "      <td>NaN</td>\n",
       "      <td>NaN</td>\n",
       "      <td>NaN</td>\n",
       "      <td>NaN</td>\n",
       "      <td>NaN</td>\n",
       "      <td>NaN</td>\n",
       "      <td>NaN</td>\n",
       "      <td>NaN</td>\n",
       "      <td>False</td>\n",
       "    </tr>\n",
       "    <tr>\n",
       "      <th>1</th>\n",
       "      <td>703311</td>\n",
       "      <td>NaN</td>\n",
       "      <td>441</td>\n",
       "      <td>2022-07-31</td>\n",
       "      <td>516279</td>\n",
       "      <td>14.97</td>\n",
       "      <td>1.0</td>\n",
       "      <td>0.0</td>\n",
       "      <td>0.0</td>\n",
       "      <td>NaN</td>\n",
       "      <td>NaN</td>\n",
       "      <td>NaN</td>\n",
       "      <td>NaN</td>\n",
       "      <td>NaN</td>\n",
       "      <td>NaN</td>\n",
       "      <td>NaN</td>\n",
       "      <td>NaN</td>\n",
       "      <td>NaN</td>\n",
       "      <td>NaN</td>\n",
       "      <td>NaN</td>\n",
       "      <td>NaN</td>\n",
       "      <td>NaN</td>\n",
       "      <td>NaN</td>\n",
       "      <td>NaN</td>\n",
       "      <td>NaN</td>\n",
       "      <td>NaN</td>\n",
       "      <td>False</td>\n",
       "    </tr>\n",
       "    <tr>\n",
       "      <th>2</th>\n",
       "      <td>1000236729</td>\n",
       "      <td>NaN</td>\n",
       "      <td>170</td>\n",
       "      <td>2022-07-23</td>\n",
       "      <td>24046</td>\n",
       "      <td>51.47</td>\n",
       "      <td>1.0</td>\n",
       "      <td>0.0</td>\n",
       "      <td>0.0</td>\n",
       "      <td>NaN</td>\n",
       "      <td>NaN</td>\n",
       "      <td>NaN</td>\n",
       "      <td>NaN</td>\n",
       "      <td>NaN</td>\n",
       "      <td>NaN</td>\n",
       "      <td>NaN</td>\n",
       "      <td>NaN</td>\n",
       "      <td>NaN</td>\n",
       "      <td>NaN</td>\n",
       "      <td>NaN</td>\n",
       "      <td>NaN</td>\n",
       "      <td>NaN</td>\n",
       "      <td>NaN</td>\n",
       "      <td>NaN</td>\n",
       "      <td>NaN</td>\n",
       "      <td>NaN</td>\n",
       "      <td>False</td>\n",
       "    </tr>\n",
       "    <tr>\n",
       "      <th>3</th>\n",
       "      <td>1005645914</td>\n",
       "      <td>NaN</td>\n",
       "      <td>1171</td>\n",
       "      <td>2022-01-09</td>\n",
       "      <td>102527</td>\n",
       "      <td>12.48</td>\n",
       "      <td>1.0</td>\n",
       "      <td>0.0</td>\n",
       "      <td>0.0</td>\n",
       "      <td>NaN</td>\n",
       "      <td>NaN</td>\n",
       "      <td>NaN</td>\n",
       "      <td>NaN</td>\n",
       "      <td>NaN</td>\n",
       "      <td>NaN</td>\n",
       "      <td>NaN</td>\n",
       "      <td>NaN</td>\n",
       "      <td>NaN</td>\n",
       "      <td>NaN</td>\n",
       "      <td>NaN</td>\n",
       "      <td>NaN</td>\n",
       "      <td>NaN</td>\n",
       "      <td>NaN</td>\n",
       "      <td>NaN</td>\n",
       "      <td>NaN</td>\n",
       "      <td>NaN</td>\n",
       "      <td>False</td>\n",
       "    </tr>\n",
       "    <tr>\n",
       "      <th>4</th>\n",
       "      <td>1002275742</td>\n",
       "      <td>NaN</td>\n",
       "      <td>1942</td>\n",
       "      <td>2022-04-17</td>\n",
       "      <td>16635</td>\n",
       "      <td>11.25</td>\n",
       "      <td>1.0</td>\n",
       "      <td>0.0</td>\n",
       "      <td>0.0</td>\n",
       "      <td>NaN</td>\n",
       "      <td>NaN</td>\n",
       "      <td>NaN</td>\n",
       "      <td>NaN</td>\n",
       "      <td>NaN</td>\n",
       "      <td>NaN</td>\n",
       "      <td>NaN</td>\n",
       "      <td>NaN</td>\n",
       "      <td>NaN</td>\n",
       "      <td>NaN</td>\n",
       "      <td>NaN</td>\n",
       "      <td>NaN</td>\n",
       "      <td>NaN</td>\n",
       "      <td>NaN</td>\n",
       "      <td>NaN</td>\n",
       "      <td>NaN</td>\n",
       "      <td>NaN</td>\n",
       "      <td>False</td>\n",
       "    </tr>\n",
       "  </tbody>\n",
       "</table>\n",
       "</div>"
      ],
      "text/plain": [
       "      SKU_NBR SKU_DESC  STR_NBR     SLS_DT  MVNDR_NBR  TY_SLS  TY_SLS_UNITS  \\\n",
       "0  1004603574      NaN     6877 2022-07-10     751001   11.97           1.0   \n",
       "1      703311      NaN      441 2022-07-31     516279   14.97           1.0   \n",
       "2  1000236729      NaN      170 2022-07-23      24046   51.47           1.0   \n",
       "3  1005645914      NaN     1171 2022-01-09     102527   12.48           1.0   \n",
       "4  1002275742      NaN     1942 2022-04-17      16635   11.25           1.0   \n",
       "\n",
       "   TY_RETURNS  TY_RETURN_UNITS  PROMO_ID  PROMO_RTL_AMT PROMO_NM PROMO_TYP  \\\n",
       "0         0.0              0.0       NaN            NaN      NaN       NaN   \n",
       "1         0.0              0.0       NaN            NaN      NaN       NaN   \n",
       "2         0.0              0.0       NaN            NaN      NaN       NaN   \n",
       "3         0.0              0.0       NaN            NaN      NaN       NaN   \n",
       "4         0.0              0.0       NaN            NaN      NaN       NaN   \n",
       "\n",
       "  PROMO_S_DESC PROMO_DESC SRC_PROMO_BGN_TS SRC_PROMO_END_TS  MKUP_MKDN_AMT  \\\n",
       "0          NaN        NaN              NaN              NaN            NaN   \n",
       "1          NaN        NaN              NaN              NaN            NaN   \n",
       "2          NaN        NaN              NaN              NaN            NaN   \n",
       "3          NaN        NaN              NaN              NaN            NaN   \n",
       "4          NaN        NaN              NaN              NaN            NaN   \n",
       "\n",
       "   MKUP_MKDN_PCT  EFF_RTL_AMT SRC_EFF_BGN_TS SRC_EFF_END_TS SRC_LAST_UPD_TS  \\\n",
       "0            NaN          NaN            NaN            NaN             NaN   \n",
       "1            NaN          NaN            NaN            NaN             NaN   \n",
       "2            NaN          NaN            NaN            NaN             NaN   \n",
       "3            NaN          NaN            NaN            NaN             NaN   \n",
       "4            NaN          NaN            NaN            NaN             NaN   \n",
       "\n",
       "  CLR_FLG SRC_DEL_FLG  SRC_DEL_DT  PROMO_FLAG  \n",
       "0     NaN         NaN         NaN       False  \n",
       "1     NaN         NaN         NaN       False  \n",
       "2     NaN         NaN         NaN       False  \n",
       "3     NaN         NaN         NaN       False  \n",
       "4     NaN         NaN         NaN       False  "
      ]
     },
     "execution_count": 16,
     "metadata": {},
     "output_type": "execute_result"
    }
   ],
   "source": [
    "#Creating a promotional flag\n",
    "df = data.assign(PROMO_FLAG = data['PROMO_ID'].notnull())\n",
    "df.head()"
   ]
  },
  {
   "cell_type": "code",
   "execution_count": 17,
   "metadata": {},
   "outputs": [],
   "source": [
    "df['TY_SLS'] = df['TY_SLS'].astype('float')"
   ]
  },
  {
   "cell_type": "markdown",
   "metadata": {},
   "source": [
    "### Statistical Tests"
   ]
  },
  {
   "cell_type": "code",
   "execution_count": 24,
   "metadata": {
    "scrolled": true
   },
   "outputs": [
    {
     "name": "stdout",
     "output_type": "stream",
     "text": [
      "T-statistic value:  873.7496500808596\n",
      "P-Value: 0.000000\n"
     ]
    }
   ],
   "source": [
    "# We see a relationship between Sales and Promotions\n",
    "from scipy.stats import ttest_ind\n",
    "\n",
    "t_stat, p_value = ttest_ind(df[df.PROMO_FLAG]['TY_SLS'].astype('float'), df[~df.PROMO_FLAG]['TY_SLS'].astype('float'))\n",
    "print(\"T-statistic value: \", t_stat)\n",
    "print(f\"P-Value: {p_value:.6f}\")"
   ]
  },
  {
   "cell_type": "code",
   "execution_count": 28,
   "metadata": {},
   "outputs": [
    {
     "data": {
      "text/plain": [
       "<AxesSubplot: xlabel='PROMO_FLAG', ylabel='Average Sales'>"
      ]
     },
     "execution_count": 28,
     "metadata": {},
     "output_type": "execute_result"
    },
    {
     "data": {
      "image/png": "[encoded data removed]",
      "text/plain": [
       "<Figure size 640x480 with 1 Axes>"
      ]
     },
     "metadata": {},
     "output_type": "display_data"
    }
   ],
   "source": [
    "df.groupby('PROMO_FLAG').TY_SLS.mean().plot.bar(ylabel='Average Sales')"
   ]
  },
  {
   "cell_type": "markdown",
   "metadata": {},
   "source": [
    "### Correlation between markdowns and sales"
   ]
  },
  {
   "cell_type": "code",
   "execution_count": 19,
   "metadata": {},
   "outputs": [
    {
     "data": {
      "text/plain": [
       "<seaborn.axisgrid.FacetGrid at 0x7fa0eb4d6df0>"
      ]
     },
     "execution_count": 19,
     "metadata": {},
     "output_type": "execute_result"
    },
    {
     "data": {
      "image/png": "[encoded data removed]",
      "text/plain": [
       "<Figure size 500x500 with 1 Axes>"
      ]
     },
     "metadata": {},
     "output_type": "display_data"
    }
   ],
   "source": [
    "# There seems to be no correlation\n",
    "import seaborn as sns\n",
    "sns.lmplot(x='MKUP_MKDN_PCT',y='TY_SLS',data=df[(0<df.MKUP_MKDN_PCT) & (df.MKUP_MKDN_PCT<60)],fit_reg=True) "
   ]
  },
  {
   "cell_type": "code",
   "execution_count": 32,
   "metadata": {},
   "outputs": [
    {
     "data": {
      "image/png": "[encoded data removed]",
      "text/plain": [
       "<Figure size 640x480 with 1 Axes>"
      ]
     },
     "metadata": {},
     "output_type": "display_data"
    }
   ],
   "source": [
    "#Confirming it with a linear model\n",
    "from sklearn.linear_model import LinearRegression\n",
    "df_model = df[(0<df.MKUP_MKDN_PCT) & (df.MKUP_MKDN_PCT<60) & (df.PROMO_FLAG)][['MKUP_MKDN_PCT', 'TY_SLS']].dropna()\n",
    "X = df_model.loc[:, 'MKUP_MKDN_PCT'].values.reshape(-1, 1)  # iloc[:, 1] is the column of X\n",
    "Y = df_model.loc[:, 'TY_SLS'].values.reshape(-1, 1)  # df.iloc[:, 4] is the column of Y\n",
    "linear_regressor = LinearRegression()\n",
    "linear_regressor.fit(X, Y)\n",
    "Y_pred = linear_regressor.predict(X)\n",
    "\n",
    "plt.scatter(X, Y)\n",
    "plt.plot(X, Y_pred, color='red')\n",
    "plt.show()"
   ]
  },
  {
   "cell_type": "code",
   "execution_count": 33,
   "metadata": {},
   "outputs": [
    {
     "data": {
      "image/png": "[encoded data removed]",
      "text/plain": [
       "<Figure size 640x480 with 1 Axes>"
      ]
     },
     "metadata": {},
     "output_type": "display_data"
    }
   ],
   "source": [
    "#Confirming it with a linear model\n",
    "from sklearn.linear_model import LinearRegression\n",
    "df_model = df[(0<df.MKUP_MKDN_PCT) & (df.MKUP_MKDN_PCT<60)& (df.PROMO_FLAG)]\\\n",
    "             [['MKUP_MKDN_PCT', 'TY_SLS_UNITS']].dropna()\n",
    "\n",
    "X = df_model.loc[:, 'MKUP_MKDN_PCT'].values.reshape(-1, 1)  # iloc[:, 1] is the column of X\n",
    "Y = df_model.loc[:, 'TY_SLS_UNITS'].values.reshape(-1, 1)  # df.iloc[:, 4] is the column of Y\n",
    "linear_regressor = LinearRegression()\n",
    "linear_regressor.fit(X, Y)\n",
    "Y_pred = linear_regressor.predict(X)\n",
    "\n",
    "plt.scatter(X, Y)\n",
    "plt.plot(X, Y_pred, color='red')\n",
    "plt.show()"
   ]
  },
  {
   "cell_type": "markdown",
   "metadata": {},
   "source": [
    "### Building analysis at SKU level"
   ]
  },
  {
   "cell_type": "code",
   "execution_count": 39,
   "metadata": {},
   "outputs": [
    {
     "name": "stdout",
     "output_type": "stream",
     "text": [
      "Total number of rows are 99367411\n"
     ]
    },
    {
     "data": {
      "text/html": [
       "<div>\n",
       "<style scoped>\n",
       "    .dataframe tbody tr th:only-of-type {\n",
       "        vertical-align: middle;\n",
       "    }\n",
       "\n",
       "    .dataframe tbody tr th {\n",
       "        vertical-align: top;\n",
       "    }\n",
       "\n",
       "    .dataframe thead th {\n",
       "        text-align: right;\n",
       "    }\n",
       "</style>\n",
       "<table border=\"1\" class=\"dataframe\">\n",
       "  <thead>\n",
       "    <tr style=\"text-align: right;\">\n",
       "      <th></th>\n",
       "      <th>MKUP_MKDN_PCT</th>\n",
       "      <th>TY_SLS</th>\n",
       "    </tr>\n",
       "  </thead>\n",
       "  <tbody>\n",
       "    <tr>\n",
       "      <th>MKUP_MKDN_PCT</th>\n",
       "      <td>1.000000</td>\n",
       "      <td>0.014321</td>\n",
       "    </tr>\n",
       "    <tr>\n",
       "      <th>TY_SLS</th>\n",
       "      <td>0.014321</td>\n",
       "      <td>1.000000</td>\n",
       "    </tr>\n",
       "  </tbody>\n",
       "</table>\n",
       "</div>"
      ],
      "text/plain": [
       "               MKUP_MKDN_PCT    TY_SLS\n",
       "MKUP_MKDN_PCT       1.000000  0.014321\n",
       "TY_SLS              0.014321  1.000000"
      ]
     },
     "execution_count": 39,
     "metadata": {},
     "output_type": "execute_result"
    }
   ],
   "source": [
    "print(f\"Total number of rows are {df.shape[0]}\")\n",
    "df[['MKUP_MKDN_PCT', 'TY_SLS']].corr()"
   ]
  },
  {
   "cell_type": "code",
   "execution_count": 38,
   "metadata": {},
   "outputs": [
    {
     "name": "stdout",
     "output_type": "stream",
     "text": [
      "The number of rows that have promotions are 1979225\n"
     ]
    },
    {
     "data": {
      "text/html": [
       "<div>\n",
       "<style scoped>\n",
       "    .dataframe tbody tr th:only-of-type {\n",
       "        vertical-align: middle;\n",
       "    }\n",
       "\n",
       "    .dataframe tbody tr th {\n",
       "        vertical-align: top;\n",
       "    }\n",
       "\n",
       "    .dataframe thead th {\n",
       "        text-align: right;\n",
       "    }\n",
       "</style>\n",
       "<table border=\"1\" class=\"dataframe\">\n",
       "  <thead>\n",
       "    <tr style=\"text-align: right;\">\n",
       "      <th></th>\n",
       "      <th>MKUP_MKDN_PCT</th>\n",
       "      <th>TY_SLS</th>\n",
       "    </tr>\n",
       "  </thead>\n",
       "  <tbody>\n",
       "    <tr>\n",
       "      <th>MKUP_MKDN_PCT</th>\n",
       "      <td>1.000000</td>\n",
       "      <td>0.014321</td>\n",
       "    </tr>\n",
       "    <tr>\n",
       "      <th>TY_SLS</th>\n",
       "      <td>0.014321</td>\n",
       "      <td>1.000000</td>\n",
       "    </tr>\n",
       "  </tbody>\n",
       "</table>\n",
       "</div>"
      ],
      "text/plain": [
       "               MKUP_MKDN_PCT    TY_SLS\n",
       "MKUP_MKDN_PCT       1.000000  0.014321\n",
       "TY_SLS              0.014321  1.000000"
      ]
     },
     "execution_count": 38,
     "metadata": {},
     "output_type": "execute_result"
    }
   ],
   "source": [
    "print(f\"The number of rows that have promotions are {df[df.PROMO_FLAG].shape[0]}\")\n",
    "df[df.PROMO_FLAG][['MKUP_MKDN_PCT', 'TY_SLS']].corr()"
   ]
  },
  {
   "cell_type": "code",
   "execution_count": 69,
   "metadata": {},
   "outputs": [
    {
     "data": {
      "text/html": [
       "<div>\n",
       "<style scoped>\n",
       "    .dataframe tbody tr th:only-of-type {\n",
       "        vertical-align: middle;\n",
       "    }\n",
       "\n",
       "    .dataframe tbody tr th {\n",
       "        vertical-align: top;\n",
       "    }\n",
       "\n",
       "    .dataframe thead th {\n",
       "        text-align: right;\n",
       "    }\n",
       "</style>\n",
       "<table border=\"1\" class=\"dataframe\">\n",
       "  <thead>\n",
       "    <tr style=\"text-align: right;\">\n",
       "      <th></th>\n",
       "      <th>SKU_NBR</th>\n",
       "      <th>level_1</th>\n",
       "      <th>MKUP_MKDN_PCT</th>\n",
       "      <th>TY_SLS</th>\n",
       "    </tr>\n",
       "  </thead>\n",
       "  <tbody>\n",
       "    <tr>\n",
       "      <th>0</th>\n",
       "      <td>138106</td>\n",
       "      <td>MKUP_MKDN_PCT</td>\n",
       "      <td>1.000000</td>\n",
       "      <td>0.016969</td>\n",
       "    </tr>\n",
       "    <tr>\n",
       "      <th>1</th>\n",
       "      <td>138106</td>\n",
       "      <td>TY_SLS</td>\n",
       "      <td>0.016969</td>\n",
       "      <td>1.000000</td>\n",
       "    </tr>\n",
       "    <tr>\n",
       "      <th>2</th>\n",
       "      <td>190262</td>\n",
       "      <td>MKUP_MKDN_PCT</td>\n",
       "      <td>1.000000</td>\n",
       "      <td>0.140902</td>\n",
       "    </tr>\n",
       "    <tr>\n",
       "      <th>3</th>\n",
       "      <td>190262</td>\n",
       "      <td>TY_SLS</td>\n",
       "      <td>0.140902</td>\n",
       "      <td>1.000000</td>\n",
       "    </tr>\n",
       "    <tr>\n",
       "      <th>4</th>\n",
       "      <td>201014</td>\n",
       "      <td>MKUP_MKDN_PCT</td>\n",
       "      <td>1.000000</td>\n",
       "      <td>-0.029969</td>\n",
       "    </tr>\n",
       "  </tbody>\n",
       "</table>\n",
       "</div>"
      ],
      "text/plain": [
       "   SKU_NBR        level_1  MKUP_MKDN_PCT    TY_SLS\n",
       "0   138106  MKUP_MKDN_PCT       1.000000  0.016969\n",
       "1   138106         TY_SLS       0.016969  1.000000\n",
       "2   190262  MKUP_MKDN_PCT       1.000000  0.140902\n",
       "3   190262         TY_SLS       0.140902  1.000000\n",
       "4   201014  MKUP_MKDN_PCT       1.000000 -0.029969"
      ]
     },
     "execution_count": 69,
     "metadata": {},
     "output_type": "execute_result"
    }
   ],
   "source": [
    "df_corr = df[df.PROMO_FLAG].groupby('SKU_NBR')[['MKUP_MKDN_PCT', 'TY_SLS']].corr().reset_index()\n",
    "df_corr.head()"
   ]
  },
  {
   "cell_type": "code",
   "execution_count": 87,
   "metadata": {},
   "outputs": [],
   "source": [
    "df_corr_02 = df_corr[(df_corr.TY_SLS>0.5) & (df_corr.level_1!=\"TY_SLS\")]\n"
   ]
  },
  {
   "cell_type": "code",
   "execution_count": 1,
   "metadata": {
    "scrolled": true
   },
   "outputs": [
    {
     "ename": "NameError",
     "evalue": "name 'df_corr_02' is not defined",
     "output_type": "error",
     "traceback": [
      "\u001b[0;31m---------------------------------------------------------------------------\u001b[0m",
      "\u001b[0;31mNameError\u001b[0m                                 Traceback (most recent call last)",
      "Cell \u001b[0;32mIn[1], line 1\u001b[0m\n\u001b[0;32m----> 1\u001b[0m \u001b[43mdf_corr_02\u001b[49m\u001b[38;5;241m.\u001b[39mhead()\n",
      "\u001b[0;31mNameError\u001b[0m: name 'df_corr_02' is not defined"
     ]
    }
   ],
   "source": [
    "df_corr_02.head()"
   ]
  },
  {
   "cell_type": "code",
   "execution_count": 93,
   "metadata": {},
   "outputs": [
    {
     "data": {
      "image/png": "[encoded data removed]",
      "text/plain": [
       "<Figure size 640x480 with 1 Axes>"
      ]
     },
     "metadata": {},
     "output_type": "display_data"
    }
   ],
   "source": [
    "# There seems to be no relationship for a particular SKU as well\n",
    "from sklearn.linear_model import LinearRegression\n",
    "df_model = df[(df.MKUP_MKDN_PCT<60) & (df.SKU_NBR==1008655988)]\\\n",
    "             [['MKUP_MKDN_PCT', 'TY_SLS_UNITS']].dropna()\n",
    "\n",
    "X = df_model.loc[:, 'MKUP_MKDN_PCT'].values.reshape(-1, 1)  # iloc[:, 1] is the column of X\n",
    "Y = df_model.loc[:, 'TY_SLS_UNITS'].values.reshape(-1, 1)  # df.iloc[:, 4] is the column of Y\n",
    "linear_regressor = LinearRegression()\n",
    "linear_regressor.fit(X, Y)\n",
    "Y_pred = linear_regressor.predict(X)\n",
    "\n",
    "plt.scatter(X, Y)\n",
    "plt.plot(X, Y_pred, color='red')\n",
    "plt.show()"
   ]
  },
  {
   "cell_type": "code",
   "execution_count": null,
   "metadata": {},
   "outputs": [],
   "source": []
  }
 ],
 "metadata": {
  "kernelspec": {
   "display_name": "Python 3 (ipykernel)",
   "language": "python",
   "name": "python3"
  },
  "language_info": {
   "codemirror_mode": {
    "name": "ipython",
    "version": 3
   },
   "file_extension": ".py",
   "mimetype": "text/x-python",
   "name": "python",
   "nbconvert_exporter": "python",
   "pygments_lexer": "ipython3",
   "version": "3.9.12"
  },
  "vscode": {
   "interpreter": {
    "hash": "635b4f7ef0daa2960bfe65cd98c233d95b078c9c354638508c85e79951fa2761"
   }
  }
 },
 "nbformat": 4,
 "nbformat_minor": 4
}
