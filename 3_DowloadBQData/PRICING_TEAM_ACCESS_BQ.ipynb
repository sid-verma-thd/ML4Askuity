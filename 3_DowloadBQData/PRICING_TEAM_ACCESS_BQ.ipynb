{
 "cells": [
  {
   "cell_type": "code",
   "execution_count": null,
   "metadata": {},
   "outputs": [],
   "source": [
    "from teamUtils import BQ_User # Pricing Analytics package we just installed\n",
    "from shapely.wkt import loads"
   ]
  },
  {
   "cell_type": "code",
   "execution_count": null,
   "metadata": {},
   "outputs": [],
   "source": [
    "home_project='analytics-askuity-thd' # Make this the project you use in your everyday work, for example Jared would use analytics-pricing-thd\n",
    "bq = BQ_User(project_name=home_project)"
   ]
  },
  {
   "cell_type": "code",
   "execution_count": null,
   "metadata": {},
   "outputs": [],
   "source": [
    "sql = \"\"\"\n",
    "WITH ARRAY_DATA as (\n",
    "      SELECT 'Division2' as parent_level,\n",
    "    DIV_NM as parent_level_value ,\n",
    "    \"Buying_Office\" AS current_level,\n",
    "    BYO_NM AS current_level_value,\n",
    "    BYO_NBR AS current_level_val,\n",
    "    'Market' as child_level,\n",
    "     TO_JSON_STRING(ARRAY_AGG(DISTINCT MKT_NM)) AS child_level_value FROM \n",
    "      `pr-edw-views-thd.VENDOR_COLLAB_VIEWS.STR_HIER` sth\n",
    "     \n",
    "     group by 1,2,3,4,5 ),\n",
    "  BASE_DATA AS (\n",
    "  SELECT\n",
    "    ct.*,\n",
    "    BYO_NBR AS current_level_val,\n",
    "    ST_DISTANCE(ST_GEOGPOINT( LNG_NBR,\n",
    "        LAT_NBR ),\n",
    "      internal_point_geo ) AS dist\n",
    "  FROM\n",
    "    `bigquery-public-data.geo_census_tracts.us_census_tracts_national` AS ct,\n",
    "    `pr-edw-views-thd.VENDOR_COLLAB_VIEWS.STR_HIER` sth\n",
    "  WHERE\n",
    "    sth.LNG_NBR IS NOT NULL\n",
    "    AND sth.LAT_NBR IS NOT NULL\n",
    "    AND S_DIV_NM <> 'CLOSED STORES'),\n",
    "  ORDERED_DIST AS (\n",
    "  SELECT\n",
    "    *,\n",
    "    ROW_NUMBER() OVER (PARTITION BY geo_id ORDER BY dist) AS RANK\n",
    "  FROM\n",
    "    BASE_DATA )\n",
    "SELECT\n",
    "  parent_level,\n",
    "  parent_level_value,\n",
    "  current_level,\n",
    "  current_level_value,\n",
    "  child_level,\n",
    "  child_level_value,\n",
    "  ST_UNION(ST_DUMP(tract_geom,2)) as simplified_blackgroup_geom\n",
    "FROM (\n",
    "  SELECT\n",
    "   *\n",
    "    \n",
    "  FROM\n",
    "    ORDERED_DIST\n",
    "    LEFT JOIN ARRAY_DATA USING(current_level_val)\n",
    "  WHERE\n",
    "    RANK = 1)\n",
    "\n",
    "\n",
    "\"\"\""
   ]
  },
  {
   "cell_type": "code",
   "execution_count": null,
   "metadata": {},
   "outputs": [],
   "source": [
    "data = bq.SQL.to_df(sql)"
   ]
  }
 ],
 "metadata": {
  "kernelspec": {
   "display_name": "Python 3 (ipykernel)",
   "language": "python",
   "name": "python3"
  },
  "language_info": {
   "codemirror_mode": {
    "name": "ipython",
    "version": 3
   },
   "file_extension": ".py",
   "mimetype": "text/x-python",
   "name": "python",
   "nbconvert_exporter": "python",
   "pygments_lexer": "ipython3",
   "version": "3.9.12"
  }
 },
 "nbformat": 4,
 "nbformat_minor": 4
}
